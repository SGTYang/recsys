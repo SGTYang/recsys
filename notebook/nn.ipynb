{
 "cells": [
  {
   "cell_type": "code",
   "execution_count": 8,
   "metadata": {},
   "outputs": [],
   "source": [
    "import tensorflow\n",
    "import numpy as np\n",
    "import pandas as pd\n",
    "from pprint import pprint"
   ]
  },
  {
   "cell_type": "code",
   "execution_count": 15,
   "metadata": {},
   "outputs": [],
   "source": [
    "hist = pd.read_csv(\"/Users/jaeho/Work/yeoboya/recommender/data/tabula/m_yeoboya_ai_dv_mem_item_use_hist.csv\")"
   ]
  },
  {
   "cell_type": "code",
   "execution_count": 16,
   "metadata": {},
   "outputs": [
    {
     "data": {
      "text/html": [
       "<div>\n",
       "<style scoped>\n",
       "    .dataframe tbody tr th:only-of-type {\n",
       "        vertical-align: middle;\n",
       "    }\n",
       "\n",
       "    .dataframe tbody tr th {\n",
       "        vertical-align: top;\n",
       "    }\n",
       "\n",
       "    .dataframe thead th {\n",
       "        text-align: right;\n",
       "    }\n",
       "</style>\n",
       "<table border=\"1\" class=\"dataframe\">\n",
       "  <thead>\n",
       "    <tr style=\"text-align: right;\">\n",
       "      <th></th>\n",
       "      <th>auto_no</th>\n",
       "      <th>mem_no</th>\n",
       "      <th>ptr_mem_no</th>\n",
       "      <th>item_code</th>\n",
       "      <th>item_name</th>\n",
       "      <th>item_type</th>\n",
       "      <th>item_cnt</th>\n",
       "      <th>use_slct</th>\n",
       "      <th>tot_use_cnt</th>\n",
       "      <th>use_date</th>\n",
       "    </tr>\n",
       "  </thead>\n",
       "  <tbody>\n",
       "    <tr>\n",
       "      <th>0</th>\n",
       "      <td>6</td>\n",
       "      <td>486228</td>\n",
       "      <td>0</td>\n",
       "      <td>top_upd</td>\n",
       "      <td>자동위로올리기 19회</td>\n",
       "      <td>n</td>\n",
       "      <td>1</td>\n",
       "      <td>u</td>\n",
       "      <td>19</td>\n",
       "      <td>2022-01-25 18:57:15</td>\n",
       "    </tr>\n",
       "    <tr>\n",
       "      <th>1</th>\n",
       "      <td>12</td>\n",
       "      <td>717610</td>\n",
       "      <td>0</td>\n",
       "      <td>top_upd</td>\n",
       "      <td>자동위로올리기 5회</td>\n",
       "      <td>n</td>\n",
       "      <td>1</td>\n",
       "      <td>u</td>\n",
       "      <td>5</td>\n",
       "      <td>2022-01-26 04:12:10</td>\n",
       "    </tr>\n",
       "    <tr>\n",
       "      <th>2</th>\n",
       "      <td>11931333</td>\n",
       "      <td>1606533</td>\n",
       "      <td>1738968</td>\n",
       "      <td>pf_view</td>\n",
       "      <td>프로필 열람권 1개 사용</td>\n",
       "      <td>n</td>\n",
       "      <td>1</td>\n",
       "      <td>u</td>\n",
       "      <td>0</td>\n",
       "      <td>2022-01-05 22:15:59</td>\n",
       "    </tr>\n",
       "    <tr>\n",
       "      <th>3</th>\n",
       "      <td>11923768</td>\n",
       "      <td>1734704</td>\n",
       "      <td>1746555</td>\n",
       "      <td>pf_view</td>\n",
       "      <td>프로필 열람권 1개 사용</td>\n",
       "      <td>n</td>\n",
       "      <td>1</td>\n",
       "      <td>u</td>\n",
       "      <td>0</td>\n",
       "      <td>2022-01-05 13:58:16</td>\n",
       "    </tr>\n",
       "    <tr>\n",
       "      <th>4</th>\n",
       "      <td>11968491</td>\n",
       "      <td>895410</td>\n",
       "      <td>1748179</td>\n",
       "      <td>pf_view</td>\n",
       "      <td>프로필 열람권 1개 사용</td>\n",
       "      <td>n</td>\n",
       "      <td>1</td>\n",
       "      <td>u</td>\n",
       "      <td>0</td>\n",
       "      <td>2022-01-08 12:59:58</td>\n",
       "    </tr>\n",
       "  </tbody>\n",
       "</table>\n",
       "</div>"
      ],
      "text/plain": [
       "    auto_no   mem_no  ptr_mem_no item_code      item_name item_type  item_cnt  \\\n",
       "0         6   486228           0   top_upd    자동위로올리기 19회         n         1   \n",
       "1        12   717610           0   top_upd     자동위로올리기 5회         n         1   \n",
       "2  11931333  1606533     1738968   pf_view  프로필 열람권 1개 사용         n         1   \n",
       "3  11923768  1734704     1746555   pf_view  프로필 열람권 1개 사용         n         1   \n",
       "4  11968491   895410     1748179   pf_view  프로필 열람권 1개 사용         n         1   \n",
       "\n",
       "  use_slct  tot_use_cnt             use_date  \n",
       "0        u           19  2022-01-25 18:57:15  \n",
       "1        u            5  2022-01-26 04:12:10  \n",
       "2        u            0  2022-01-05 22:15:59  \n",
       "3        u            0  2022-01-05 13:58:16  \n",
       "4        u            0  2022-01-08 12:59:58  "
      ]
     },
     "execution_count": 16,
     "metadata": {},
     "output_type": "execute_result"
    }
   ],
   "source": [
    "hist.head()"
   ]
  },
  {
   "cell_type": "code",
   "execution_count": 39,
   "metadata": {},
   "outputs": [],
   "source": [
    "from collections import defaultdict\n",
    "code_name = defaultdict(set)\n",
    "\n",
    "for _, row in hist.iterrows():\n",
    "    code_name[row['item_code']].add(row['item_name'].split(\" \")[0])"
   ]
  },
  {
   "cell_type": "code",
   "execution_count": 40,
   "metadata": {},
   "outputs": [
    {
     "name": "stdout",
     "output_type": "stream",
     "text": [
      "defaultdict(<class 'set'>,\n",
      "            {'em_0002_365d': {'귀여운남자'},\n",
      "             'em_0003_365d': {'귀여운여자'},\n",
      "             'em_0004_365d': {'섹시한남자'},\n",
      "             'em_0005_365d': {'섹시한여자'},\n",
      "             'em_0006_365d': {'철수가'},\n",
      "             'em_0007_365d': {'영희가'},\n",
      "             'm_secret_30d': {'시크릿'},\n",
      "             'm_secret_60d': {'시크릿'},\n",
      "             'm_secret_90d': {'시크릿'},\n",
      "             'mem_concn': {'관심있어요'},\n",
      "             'msg_10day': {'메시지'},\n",
      "             'msg_15day': {'메시지'},\n",
      "             'msg_1d_ct4': {'혼인관계증명,동영상5개'},\n",
      "             'msg_1d_ct5': {'본인인증,음성,움짤,본인동영상'},\n",
      "             'msg_1day': {'메시지'},\n",
      "             'msg_30day': {'메시지'},\n",
      "             'msg_30day_2': {'메시지'},\n",
      "             'msg_5day': {'메시지'},\n",
      "             'msg_o1hr': {'일대일'},\n",
      "             'myage_30d': {'내'},\n",
      "             'nedn_30day': {'눈에띄네'},\n",
      "             'nvt_1d': {'방문기록'},\n",
      "             'nvt_1d_f': {'방문기록'},\n",
      "             'nvt_3d': {'방문기록'},\n",
      "             'nvt_3d_f': {'방문기록'},\n",
      "             'nvt_5d': {'방문기록'},\n",
      "             'nvt_5d_f': {'방문기록'},\n",
      "             'nvt_7d': {'방문기록'},\n",
      "             'nvt_7d_f': {'방문기록'},\n",
      "             'pf_view': {'프로필열람/만나고싶어요', '프로필'},\n",
      "             'ps_view_10': {'플러스열람권'},\n",
      "             'ps_view_15': {'플러스열람권'},\n",
      "             'ps_view_30': {'플러스열람권'},\n",
      "             'ps_view_5': {'플러스열람권'},\n",
      "             'top_upd': {'자동위로올리기'},\n",
      "             'vo_mt': {'음성맞선이용권'}})\n"
     ]
    }
   ],
   "source": [
    "pprint(code_name)"
   ]
  },
  {
   "cell_type": "code",
   "execution_count": null,
   "metadata": {},
   "outputs": [],
   "source": [
    "valid_code = {\n",
    "    \"mem_concn\",\n",
    "    \"msg_10day\",\n",
    "    \"msg_15day\",\n",
    "    \"msg_1day\",\n",
    "    \"msg_30day\",\n",
    "    \"msg_30day_2\",\n",
    "    \"msg_5day\",\n",
    "    \"msg_o1hr\",\n",
    "    \"pf_view\",\n",
    "    \"ps_view_10\",\n",
    "    \"ps_view_15\",\n",
    "    \"ps_view_30\",\n",
    "    \"ps_view_5\",\n",
    "    \"vo_mt\"\n",
    "}"
   ]
  },
  {
   "cell_type": "code",
   "execution_count": null,
   "metadata": {},
   "outputs": [],
   "source": [
    "from collections import defaultdict\n",
    "user_rating = defaultdict(defaultdict)\n",
    "\n",
    "for _, row in hist.iterrows():\n",
    "    if row['item_code'] in valid_code:\n",
    "        user_rating[row['mem_no']].add(row[\"ptr_mem_no\"])\n"
   ]
  },
  {
   "cell_type": "code",
   "execution_count": null,
   "metadata": {},
   "outputs": [],
   "source": [
    "mate = pd.read_csv(\"/Users/jaeho/Work/yeoboya/recommender/data/tabula/m_yeoboya_ai_dv_member_mate_exit.csv\")\n",
    "mate.head()"
   ]
  },
  {
   "cell_type": "code",
   "execution_count": null,
   "metadata": {},
   "outputs": [],
   "source": [
    "view = pd.read_csv(\"/Users/jaeho/Work/yeoboya/recommender/data/tabula/m_yeoboya_member_pf_view_all_log.csv\")\n",
    "view.head()"
   ]
  }
 ],
 "metadata": {
  "interpreter": {
   "hash": "393e5b38068eb876eb80188b682271d678a01212be2bf098948f8f00e474ec0f"
  },
  "kernelspec": {
   "display_name": "Python 3.10.9 ('tf')",
   "language": "python",
   "name": "python3"
  },
  "language_info": {
   "codemirror_mode": {
    "name": "ipython",
    "version": 3
   },
   "file_extension": ".py",
   "mimetype": "text/x-python",
   "name": "python",
   "nbconvert_exporter": "python",
   "pygments_lexer": "ipython3",
   "version": "3.10.9"
  },
  "orig_nbformat": 4
 },
 "nbformat": 4,
 "nbformat_minor": 2
}
