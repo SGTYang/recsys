{
 "cells": [
  {
   "cell_type": "code",
   "execution_count": 10,
   "metadata": {},
   "outputs": [
    {
     "name": "stdout",
     "output_type": "stream",
     "text": [
      "87\n"
     ]
    },
    {
     "name": "stderr",
     "output_type": "stream",
     "text": [
      "/var/folders/23/z66xfw69593_wvynw4k7bb080000gn/T/ipykernel_60030/1033791744.py:4: DtypeWarning: Columns (7,22,25,26,33,34,37,63,64,65,66,82) have mixed types. Specify dtype option on import or set low_memory=False.\n",
      "  user_data = pd.read_csv(\"/Users/jaeho/Work/yeoboya/recommender/data/nn_data/train/new_user_data.csv\")\n"
     ]
    }
   ],
   "source": [
    "import pandas as pd\n",
    "from pprint import pprint\n",
    "\n",
    "user_data = pd.read_csv(\"/Users/jaeho/Work/yeoboya/recommender/data/nn_data/train/new_user_data.csv\")\n",
    "user_data_colum_list = user_data.columns.to_list()\n",
    "print(len(user_data_colum_list))"
   ]
  },
  {
   "cell_type": "code",
   "execution_count": 11,
   "metadata": {},
   "outputs": [
    {
     "name": "stdout",
     "output_type": "stream",
     "text": [
      "['mem_no', 'mem_sex', 'mem_loc', 'mem_l_code', 'mem_birth_year', 'mem_birth_month', 'mem_birth_day', 'mem_birth_date', 'mem_birth_ddi', 'mate_slct', 'mate_slct_yn', 'mem_name_slct', 'mem_last_name_code', 'mem_last_name', 'mem_first_name', 'rprsn_mov_yn', 'rprsn_mov', 'rprsn_mov_img', 'rprsn_photo_no', 'rprsn_photo_yn', 'rprsn_photo_date', 'rprsn_photo', 'rprsn_chrgr_name', 'photo_cnt', 'mate_conts', 'chrgr_check_req_yn', 'check_reason', 'mate_job', 'mate_job_detail', 'mate_ann_salary', 'mate_parents_property', 'mate_height', 'mate_weight', 'mate_blood', 'mate_religion', 'mate_car', 'mate_career', 'mate_style', 'mate_charc', 'mate_hobby', 'mate_offspring_m', 'mate_offspring_f', 'htown_loc', 'htown_l_code', 'match_amt', 'wed_plan', 'fashion_style', 'divorce_rslt', 'brothers_sisters', 'possess_property', 'language_skills', 'study_abroad', 'favor_food', 'parents_slct', 'divorce_year', 'child_raise', 'family_conts', 'smoke_slct', 'drink_slct', 'health_slct', 'animal_slct', 'childbirth_slct', 'z_wish_age', 'z_wish_loc', 'z_wish_loc_1', 'z_wish_loc_2', 'z_wish_loc_3', 'z_wish_religion', 'z_wish_conts', 'reject_date', 'reject_info', 'join_slct', 'mem_slct', 'login_media', 'send_cnt', 'upd_cnt', 'conts_upd_cnt', 'family_conts_upd_cnt', 'secret_item_yn', 'secret_yn', 'respect_person_cont', 'my_point_cont', 'list_prt_yn', 'my_hd_item_yn', 'my_hd_yn', 'ins_date', 'upd_date']\n"
     ]
    }
   ],
   "source": [
    "print(user_data_colum_list)"
   ]
  },
  {
   "cell_type": "code",
   "execution_count": 36,
   "metadata": {},
   "outputs": [
    {
     "name": "stdout",
     "output_type": "stream",
     "text": [
      "293\n",
      "['qus', 'd00', 'd10', 'i14', 'b00', 'j04', 'a14', 'l03', 'p13', 'n07', 'i20', 'p06', 'quz', 'b35', 'o10', 'o01', 'a04', 'o04', 'd22', 'l18', 'b12', 'n15', 'c15', 'c06', 'c04', 'e05', 'o07', 'h05', 'h09', 'b19', 'e03', 'l20', 'c01', 'b29', 'h10', 'p03', 'a10', 'qde', 'k01', 'qgu', 'i', 'f00', 'qcn', 'c19', 'n13', 'b28', 'o11', 'n02', 'i02', 'o14', 'b23', 'n06', 'c07', 'n08', 'd16', 'k07', 'n10', 'o00', 'b22', 'c17', 'l04', 'd12', 'b38', 'c14', 'h00', 'b05', 'p10', 'qru', 'l21', 'o05', 'p02', 'd20', 'p09', 'b21', 'b33', 'i24', 'i12', 'b26', 'k00', 'i09', 'qca', 'g02', 'd15', 'h12', 'b08', 'c21', 'f05', 'qse', 'k03', 'o09', 'i07', 'p11', 'g00', 'o03', 'b44', 'b30', 'a03', 'o17', 'h07', 'b18', 'i18', 'o08', 'i03', 'k02', 'g04', 'h04', 'qsg', 'z00', 'k09', 'h08', 'l09', 'h02', 'a01', 'b17', 'h03', 'k06', 'e02', 'c11', 'd18', 'f04', 'b24', 'i00', 'b09', 'j02', 'qau', 'p04', 'd05', 'h16', 'k04', 'b03', 'l08', 'g01', 'a16', 'l01', 'b15', 'qnl', 'qtw', 'qvn', 'l15', 'n09', 'l19', 'h06', 'd11', 'd23', 'h01', 'c08', 'h15', 'b36', 'e00', 'qsk', 'f02', 'i21', 'c00', 'l02', 'f08', 'c16', 'd21', 'i23', 'l13', 'i19', 'p05', 'i25', 'i22', 'qpl', 'qat', 'l07', 'qgb', 'l00', 'o16', 'j01', 'g05', 'b13', 'b40', 'g03', 'd06', 'h11', 'qjp', 'i05', 'i06', 'b11', 'd19', 'a09', 'n12', 'd01', 'o15', 'b42', 'b10', 'a17', 'c10', 'c22', 'j00', 'b02', 'z01', 'd13', 'p07', 'd24', 'n14', 'd09', 'd08', 'a07', 'n04', 'e01', 'c09', 'a06', 'b31', 'l22', 'a05', 'm00', 'd17', 'h13', 'f07', 'c02', 'o06', 'n03', 'a18', 'm01', 'a08', 'n05', 'a13', 'p00', 'l14', 'y04', 'i01', 'b27', 'n01', 'c12', 'c05', 'a02', 'j05', 'p08', 'b01', 'e04', 'i15', 'b07', 'qnz', 'o13', 'l10', 'p12', 'l05', 'b41', 'c13', 'a15', 'i13', 'f06', 'l11', 'b39', 'l12', 'a11', 'k05', 'f03', 'o12', 'a12', 'p14', 'y11', 'b43', 'b25', 'm02', 'd03', 'j03', 'l06', 'qph', 'n11', 'b37', 'i10', 'k10', 'b34', 'l17', 'y01', 'b32', 'd04', 'i08', 'b04', 'qhk', 'c18', 'i16', 'p01', 'f01', 'd02', 'l16', 'h14', 'b16', 'i04', 'c03', 'd14', 'b20', 'i17', 'k08', 'd07', 'a00', 'b06', 'i11', 'c20', 'o02']\n"
     ]
    }
   ],
   "source": [
    "detail_location = list(set(user_data['mem_l_code'].values.tolist()))\n",
    "print(len(detail_location))\n",
    "print(detail_location)"
   ]
  },
  {
   "cell_type": "code",
   "execution_count": 54,
   "metadata": {},
   "outputs": [
    {
     "name": "stdout",
     "output_type": "stream",
     "text": [
      "[[0. 0. 0. ... 0. 0. 0.]\n",
      " [0. 0. 0. ... 0. 0. 0.]\n",
      " [0. 0. 0. ... 0. 0. 0.]\n",
      " ...\n",
      " [0. 0. 0. ... 0. 0. 0.]\n",
      " [0. 0. 0. ... 0. 0. 0.]\n",
      " [0. 0. 0. ... 0. 0. 0.]]\n"
     ]
    },
    {
     "name": "stderr",
     "output_type": "stream",
     "text": [
      "/Users/jaeho/miniforge3/envs/tf/lib/python3.10/site-packages/sklearn/preprocessing/_encoders.py:868: FutureWarning: `sparse` was renamed to `sparse_output` in version 1.2 and will be removed in 1.4. `sparse_output` is ignored unless you leave `sparse` to its default value.\n",
      "  warnings.warn(\n"
     ]
    }
   ],
   "source": [
    "from sklearn.preprocessing import OneHotEncoder\n",
    "one_hot = OneHotEncoder(sparse=False)\n",
    "one_hot.fit(user_data[['mem_l_code']])\n",
    "print(one_hot.transform(user_data[['mem_l_code']]))"
   ]
  },
  {
   "cell_type": "code",
   "execution_count": 61,
   "metadata": {},
   "outputs": [
    {
     "data": {
      "text/html": [
       "<div>\n",
       "<style scoped>\n",
       "    .dataframe tbody tr th:only-of-type {\n",
       "        vertical-align: middle;\n",
       "    }\n",
       "\n",
       "    .dataframe tbody tr th {\n",
       "        vertical-align: top;\n",
       "    }\n",
       "\n",
       "    .dataframe thead th {\n",
       "        text-align: right;\n",
       "    }\n",
       "</style>\n",
       "<table border=\"1\" class=\"dataframe\">\n",
       "  <thead>\n",
       "    <tr style=\"text-align: right;\">\n",
       "      <th></th>\n",
       "      <th>mem_birth_year</th>\n",
       "      <th>mem_birth_month</th>\n",
       "      <th>mem_birth_day</th>\n",
       "      <th>mem_birth_date</th>\n",
       "    </tr>\n",
       "  </thead>\n",
       "  <tbody>\n",
       "    <tr>\n",
       "      <th>0</th>\n",
       "      <td>1985.0</td>\n",
       "      <td>6.0</td>\n",
       "      <td>3.0</td>\n",
       "      <td>1985-06-03</td>\n",
       "    </tr>\n",
       "    <tr>\n",
       "      <th>1</th>\n",
       "      <td>1966.0</td>\n",
       "      <td>2.0</td>\n",
       "      <td>0.0</td>\n",
       "      <td>0000-00-00</td>\n",
       "    </tr>\n",
       "    <tr>\n",
       "      <th>2</th>\n",
       "      <td>1977.0</td>\n",
       "      <td>10.0</td>\n",
       "      <td>21.0</td>\n",
       "      <td>1977-10-21</td>\n",
       "    </tr>\n",
       "    <tr>\n",
       "      <th>3</th>\n",
       "      <td>1971.0</td>\n",
       "      <td>3.0</td>\n",
       "      <td>0.0</td>\n",
       "      <td>0000-00-00</td>\n",
       "    </tr>\n",
       "    <tr>\n",
       "      <th>4</th>\n",
       "      <td>1965.0</td>\n",
       "      <td>10.0</td>\n",
       "      <td>0.0</td>\n",
       "      <td>0000-00-00</td>\n",
       "    </tr>\n",
       "    <tr>\n",
       "      <th>...</th>\n",
       "      <td>...</td>\n",
       "      <td>...</td>\n",
       "      <td>...</td>\n",
       "      <td>...</td>\n",
       "    </tr>\n",
       "    <tr>\n",
       "      <th>20691</th>\n",
       "      <td>1964.0</td>\n",
       "      <td>1.0</td>\n",
       "      <td>NaN</td>\n",
       "      <td>NaN</td>\n",
       "    </tr>\n",
       "    <tr>\n",
       "      <th>20692</th>\n",
       "      <td>1973.0</td>\n",
       "      <td>5.0</td>\n",
       "      <td>NaN</td>\n",
       "      <td>NaN</td>\n",
       "    </tr>\n",
       "    <tr>\n",
       "      <th>20693</th>\n",
       "      <td>1980.0</td>\n",
       "      <td>9.0</td>\n",
       "      <td>NaN</td>\n",
       "      <td>NaN</td>\n",
       "    </tr>\n",
       "    <tr>\n",
       "      <th>20694</th>\n",
       "      <td>1973.0</td>\n",
       "      <td>4.0</td>\n",
       "      <td>NaN</td>\n",
       "      <td>NaN</td>\n",
       "    </tr>\n",
       "    <tr>\n",
       "      <th>20695</th>\n",
       "      <td>1980.0</td>\n",
       "      <td>6.0</td>\n",
       "      <td>NaN</td>\n",
       "      <td>NaN</td>\n",
       "    </tr>\n",
       "  </tbody>\n",
       "</table>\n",
       "<p>20696 rows × 4 columns</p>\n",
       "</div>"
      ],
      "text/plain": [
       "       mem_birth_year  mem_birth_month  mem_birth_day mem_birth_date\n",
       "0              1985.0              6.0            3.0     1985-06-03\n",
       "1              1966.0              2.0            0.0     0000-00-00\n",
       "2              1977.0             10.0           21.0     1977-10-21\n",
       "3              1971.0              3.0            0.0     0000-00-00\n",
       "4              1965.0             10.0            0.0     0000-00-00\n",
       "...               ...              ...            ...            ...\n",
       "20691          1964.0              1.0            NaN            NaN\n",
       "20692          1973.0              5.0            NaN            NaN\n",
       "20693          1980.0              9.0            NaN            NaN\n",
       "20694          1973.0              4.0            NaN            NaN\n",
       "20695          1980.0              6.0            NaN            NaN\n",
       "\n",
       "[20696 rows x 4 columns]"
      ]
     },
     "execution_count": 61,
     "metadata": {},
     "output_type": "execute_result"
    }
   ],
   "source": [
    "user_data[['mem_birth_year', 'mem_birth_month', 'mem_birth_day', 'mem_birth_date']]"
   ]
  },
  {
   "cell_type": "code",
   "execution_count": 78,
   "metadata": {},
   "outputs": [
    {
     "data": {
      "text/plain": [
       "0        1985\n",
       "1        1966\n",
       "2        1977\n",
       "3        1971\n",
       "4        1965\n",
       "         ... \n",
       "20691    1964\n",
       "20692    1973\n",
       "20693    1980\n",
       "20694    1973\n",
       "20695    1980\n",
       "Name: mem_birth_year, Length: 20696, dtype: object"
      ]
     },
     "execution_count": 78,
     "metadata": {},
     "output_type": "execute_result"
    }
   ],
   "source": [
    "user_data['mem_birth_year'] = user_data['mem_birth_year'].astype('str')\n",
    "user_data['mem_birth_year']"
   ]
  },
  {
   "cell_type": "code",
   "execution_count": 80,
   "metadata": {},
   "outputs": [
    {
     "data": {
      "text/plain": [
       "0         6\n",
       "1         2\n",
       "2        10\n",
       "3         3\n",
       "4        10\n",
       "         ..\n",
       "20691     1\n",
       "20692     5\n",
       "20693     9\n",
       "20694     4\n",
       "20695     6\n",
       "Name: mem_birth_month, Length: 20696, dtype: object"
      ]
     },
     "execution_count": 80,
     "metadata": {},
     "output_type": "execute_result"
    }
   ],
   "source": [
    "user_data['mem_birth_month'] = user_data['mem_birth_month'].astype('str')\n",
    "user_data['mem_birth_month']"
   ]
  },
  {
   "cell_type": "code",
   "execution_count": 82,
   "metadata": {},
   "outputs": [
    {
     "data": {
      "text/plain": [
       "0         1985-6\n",
       "1         1966-2\n",
       "2        1977-10\n",
       "3         1971-3\n",
       "4        1965-10\n",
       "          ...   \n",
       "20691     1964-1\n",
       "20692     1973-5\n",
       "20693     1980-9\n",
       "20694     1973-4\n",
       "20695     1980-6\n",
       "Name: mem_birth_date, Length: 20696, dtype: object"
      ]
     },
     "execution_count": 82,
     "metadata": {},
     "output_type": "execute_result"
    }
   ],
   "source": [
    "user_data['mem_birth_date'] = user_data[['mem_birth_year', 'mem_birth_month']].agg('-'.join, axis=1)\n",
    "user_data['mem_birth_date']"
   ]
  },
  {
   "cell_type": "code",
   "execution_count": 84,
   "metadata": {},
   "outputs": [
    {
     "name": "stdout",
     "output_type": "stream",
     "text": [
      "0-0\n",
      "time data '0-0' does not match format '%Y-%m'\n"
     ]
    },
    {
     "ename": "UnboundLocalError",
     "evalue": "local variable 'age' referenced before assignment",
     "output_type": "error",
     "traceback": [
      "\u001b[0;31m---------------------------------------------------------------------------\u001b[0m",
      "\u001b[0;31mUnboundLocalError\u001b[0m                         Traceback (most recent call last)",
      "Cell \u001b[0;32mIn[84], line 14\u001b[0m\n\u001b[1;32m     10\u001b[0m         \u001b[38;5;28mprint\u001b[39m(e)\n\u001b[1;32m     11\u001b[0m     \u001b[38;5;28;01mreturn\u001b[39;00m age\n\u001b[0;32m---> 14\u001b[0m \u001b[43muser_data\u001b[49m\u001b[43m[\u001b[49m\u001b[38;5;124;43m'\u001b[39;49m\u001b[38;5;124;43mmem_birth_date\u001b[39;49m\u001b[38;5;124;43m'\u001b[39;49m\u001b[43m]\u001b[49m\u001b[38;5;241;43m.\u001b[39;49m\u001b[43mapply\u001b[49m\u001b[43m(\u001b[49m\u001b[43mcal_age\u001b[49m\u001b[43m)\u001b[49m\n",
      "File \u001b[0;32m~/miniforge3/envs/tf/lib/python3.10/site-packages/pandas/core/series.py:4771\u001b[0m, in \u001b[0;36mSeries.apply\u001b[0;34m(self, func, convert_dtype, args, **kwargs)\u001b[0m\n\u001b[1;32m   <a href='file:///Users/jaeho/miniforge3/envs/tf/lib/python3.10/site-packages/pandas/core/series.py?line=4660'>4661</a>\u001b[0m \u001b[39mdef\u001b[39;00m \u001b[39mapply\u001b[39m(\n\u001b[1;32m   <a href='file:///Users/jaeho/miniforge3/envs/tf/lib/python3.10/site-packages/pandas/core/series.py?line=4661'>4662</a>\u001b[0m     \u001b[39mself\u001b[39m,\n\u001b[1;32m   <a href='file:///Users/jaeho/miniforge3/envs/tf/lib/python3.10/site-packages/pandas/core/series.py?line=4662'>4663</a>\u001b[0m     func: AggFuncType,\n\u001b[0;32m   (...)\u001b[0m\n\u001b[1;32m   <a href='file:///Users/jaeho/miniforge3/envs/tf/lib/python3.10/site-packages/pandas/core/series.py?line=4665'>4666</a>\u001b[0m     \u001b[39m*\u001b[39m\u001b[39m*\u001b[39mkwargs,\n\u001b[1;32m   <a href='file:///Users/jaeho/miniforge3/envs/tf/lib/python3.10/site-packages/pandas/core/series.py?line=4666'>4667</a>\u001b[0m ) \u001b[39m-\u001b[39m\u001b[39m>\u001b[39m DataFrame \u001b[39m|\u001b[39m Series:\n\u001b[1;32m   <a href='file:///Users/jaeho/miniforge3/envs/tf/lib/python3.10/site-packages/pandas/core/series.py?line=4667'>4668</a>\u001b[0m \u001b[39m    \u001b[39m\u001b[39m\"\"\"\u001b[39;00m\n\u001b[1;32m   <a href='file:///Users/jaeho/miniforge3/envs/tf/lib/python3.10/site-packages/pandas/core/series.py?line=4668'>4669</a>\u001b[0m \u001b[39m    Invoke function on values of Series.\u001b[39;00m\n\u001b[1;32m   <a href='file:///Users/jaeho/miniforge3/envs/tf/lib/python3.10/site-packages/pandas/core/series.py?line=4669'>4670</a>\u001b[0m \n\u001b[0;32m   (...)\u001b[0m\n\u001b[1;32m   <a href='file:///Users/jaeho/miniforge3/envs/tf/lib/python3.10/site-packages/pandas/core/series.py?line=4768'>4769</a>\u001b[0m \u001b[39m    dtype: float64\u001b[39;00m\n\u001b[1;32m   <a href='file:///Users/jaeho/miniforge3/envs/tf/lib/python3.10/site-packages/pandas/core/series.py?line=4769'>4770</a>\u001b[0m \u001b[39m    \"\"\"\u001b[39;00m\n\u001b[0;32m-> <a href='file:///Users/jaeho/miniforge3/envs/tf/lib/python3.10/site-packages/pandas/core/series.py?line=4770'>4771</a>\u001b[0m     \u001b[39mreturn\u001b[39;00m SeriesApply(\u001b[39mself\u001b[39;49m, func, convert_dtype, args, kwargs)\u001b[39m.\u001b[39;49mapply()\n",
      "File \u001b[0;32m~/miniforge3/envs/tf/lib/python3.10/site-packages/pandas/core/apply.py:1123\u001b[0m, in \u001b[0;36mSeriesApply.apply\u001b[0;34m(self)\u001b[0m\n\u001b[1;32m   <a href='file:///Users/jaeho/miniforge3/envs/tf/lib/python3.10/site-packages/pandas/core/apply.py?line=1119'>1120</a>\u001b[0m     \u001b[39mreturn\u001b[39;00m \u001b[39mself\u001b[39m\u001b[39m.\u001b[39mapply_str()\n\u001b[1;32m   <a href='file:///Users/jaeho/miniforge3/envs/tf/lib/python3.10/site-packages/pandas/core/apply.py?line=1121'>1122</a>\u001b[0m \u001b[39m# self.f is Callable\u001b[39;00m\n\u001b[0;32m-> <a href='file:///Users/jaeho/miniforge3/envs/tf/lib/python3.10/site-packages/pandas/core/apply.py?line=1122'>1123</a>\u001b[0m \u001b[39mreturn\u001b[39;00m \u001b[39mself\u001b[39;49m\u001b[39m.\u001b[39;49mapply_standard()\n",
      "File \u001b[0;32m~/miniforge3/envs/tf/lib/python3.10/site-packages/pandas/core/apply.py:1174\u001b[0m, in \u001b[0;36mSeriesApply.apply_standard\u001b[0;34m(self)\u001b[0m\n\u001b[1;32m   <a href='file:///Users/jaeho/miniforge3/envs/tf/lib/python3.10/site-packages/pandas/core/apply.py?line=1171'>1172</a>\u001b[0m     \u001b[39melse\u001b[39;00m:\n\u001b[1;32m   <a href='file:///Users/jaeho/miniforge3/envs/tf/lib/python3.10/site-packages/pandas/core/apply.py?line=1172'>1173</a>\u001b[0m         values \u001b[39m=\u001b[39m obj\u001b[39m.\u001b[39mastype(\u001b[39mobject\u001b[39m)\u001b[39m.\u001b[39m_values\n\u001b[0;32m-> <a href='file:///Users/jaeho/miniforge3/envs/tf/lib/python3.10/site-packages/pandas/core/apply.py?line=1173'>1174</a>\u001b[0m         mapped \u001b[39m=\u001b[39m lib\u001b[39m.\u001b[39;49mmap_infer(\n\u001b[1;32m   <a href='file:///Users/jaeho/miniforge3/envs/tf/lib/python3.10/site-packages/pandas/core/apply.py?line=1174'>1175</a>\u001b[0m             values,\n\u001b[1;32m   <a href='file:///Users/jaeho/miniforge3/envs/tf/lib/python3.10/site-packages/pandas/core/apply.py?line=1175'>1176</a>\u001b[0m             f,\n\u001b[1;32m   <a href='file:///Users/jaeho/miniforge3/envs/tf/lib/python3.10/site-packages/pandas/core/apply.py?line=1176'>1177</a>\u001b[0m             convert\u001b[39m=\u001b[39;49m\u001b[39mself\u001b[39;49m\u001b[39m.\u001b[39;49mconvert_dtype,\n\u001b[1;32m   <a href='file:///Users/jaeho/miniforge3/envs/tf/lib/python3.10/site-packages/pandas/core/apply.py?line=1177'>1178</a>\u001b[0m         )\n\u001b[1;32m   <a href='file:///Users/jaeho/miniforge3/envs/tf/lib/python3.10/site-packages/pandas/core/apply.py?line=1179'>1180</a>\u001b[0m \u001b[39mif\u001b[39;00m \u001b[39mlen\u001b[39m(mapped) \u001b[39mand\u001b[39;00m \u001b[39misinstance\u001b[39m(mapped[\u001b[39m0\u001b[39m], ABCSeries):\n\u001b[1;32m   <a href='file:///Users/jaeho/miniforge3/envs/tf/lib/python3.10/site-packages/pandas/core/apply.py?line=1180'>1181</a>\u001b[0m     \u001b[39m# GH#43986 Need to do list(mapped) in order to get treated as nested\u001b[39;00m\n\u001b[1;32m   <a href='file:///Users/jaeho/miniforge3/envs/tf/lib/python3.10/site-packages/pandas/core/apply.py?line=1181'>1182</a>\u001b[0m     \u001b[39m#  See also GH#25959 regarding EA support\u001b[39;00m\n\u001b[1;32m   <a href='file:///Users/jaeho/miniforge3/envs/tf/lib/python3.10/site-packages/pandas/core/apply.py?line=1182'>1183</a>\u001b[0m     \u001b[39mreturn\u001b[39;00m obj\u001b[39m.\u001b[39m_constructor_expanddim(\u001b[39mlist\u001b[39m(mapped), index\u001b[39m=\u001b[39mobj\u001b[39m.\u001b[39mindex)\n",
      "File \u001b[0;32m~/miniforge3/envs/tf/lib/python3.10/site-packages/pandas/_libs/lib.pyx:2924\u001b[0m, in \u001b[0;36mpandas._libs.lib.map_infer\u001b[0;34m()\u001b[0m\n",
      "Cell \u001b[0;32mIn[84], line 11\u001b[0m, in \u001b[0;36mcal_age\u001b[0;34m(birth_data)\u001b[0m\n\u001b[1;32m      9\u001b[0m     \u001b[38;5;28mprint\u001b[39m(birth_data)\n\u001b[1;32m     10\u001b[0m     \u001b[38;5;28mprint\u001b[39m(e)\n\u001b[0;32m---> 11\u001b[0m \u001b[38;5;28;01mreturn\u001b[39;00m \u001b[43mage\u001b[49m\n",
      "\u001b[0;31mUnboundLocalError\u001b[0m: local variable 'age' referenced before assignment"
     ]
    }
   ],
   "source": [
    "from datetime import datetime\n",
    "def cal_age(birth_data):\n",
    "    try:\n",
    "        now = datetime.now()\n",
    "        birthday = datetime.strptime(birth_data, \"%Y-%m\")\n",
    "        difference = now - birthday\n",
    "        age = difference.days // 365\n",
    "    except Exception as e:\n",
    "        print(birth_data)\n",
    "        print(e)\n",
    "    return age\n",
    "\n",
    "\n",
    "user_data['mem_birth_date'].apply(cal_age)"
   ]
  }
 ],
 "metadata": {
  "interpreter": {
   "hash": "393e5b38068eb876eb80188b682271d678a01212be2bf098948f8f00e474ec0f"
  },
  "kernelspec": {
   "display_name": "Python 3.10.9 ('tf')",
   "language": "python",
   "name": "python3"
  },
  "language_info": {
   "codemirror_mode": {
    "name": "ipython",
    "version": 3
   },
   "file_extension": ".py",
   "mimetype": "text/x-python",
   "name": "python",
   "nbconvert_exporter": "python",
   "pygments_lexer": "ipython3",
   "version": "3.10.9"
  },
  "orig_nbformat": 4
 },
 "nbformat": 4,
 "nbformat_minor": 2
}
