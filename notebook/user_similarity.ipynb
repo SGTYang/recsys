{
 "cells": [
  {
   "cell_type": "code",
   "execution_count": 10,
   "metadata": {},
   "outputs": [
    {
     "name": "stdout",
     "output_type": "stream",
     "text": [
      "['5', 'm', 'q', 'qnz', '1985', '6', '3', '1985-06-03', '5', 'w', 'y', 'y', '6', '최', '우수', 'y', '5_202210260912082670.mp4|22|8642441', '5_202210260912082671.jpg|1280|720', '0', 'n', '0000-00-00 00:00:00', '', '', '0', '반갑습니다.  여행과 운동 그리고 음악을 좋아하는 남자입니다. 취미를 함께하며 평생 인생의 동반자로 즐겁게 살고싶습니다.  좋은 인연이 되길!', 'n', '', '24', '연구원', '8', '1', '186', '78', '3', '5', '5', '4', '6', '3,4,6', '6,16,28', '0', '0', 'b', 'b22', '', 'a', '4,9,', '', '3,3,3', 'f', '', 'y', '28,29,50,64,', 'b', '', '', '삼남매이며 형제간에우애하고 화목한가정에서 자랐습니다.앞으로도 좋은가정을 이뤄나아가고싶습니다.행복한하루', 'a|', 'a|', 'b|b', '', '', '', '', '', '', '', '', '', '0000-00-00 00:00:00', '', 'h', 'b', 's', '0', '148', '20', '14', 'n', 'n', '', '90', 'y', 'n', 'n', '2015-07-22 16:31:35', '2023-06-27 14:18:35']\n"
     ]
    }
   ],
   "source": [
    "import csv\n",
    "import pandas as pd\n",
    "import datetime\n",
    "\n",
    "today = datetime.date.today()\n",
    "\n",
    "def read_csv_file(file):\n",
    "    with open(f'{file}', 'r', encoding=\"utf-8\") as f:\n",
    "        data = csv.reader(f)\n",
    "        yield next(data)\n",
    "        for row in data:\n",
    "            sex = row[1]\n",
    "            birth = row[4]\n",
    "            print(today, birth)\n",
    "            break"
   ]
  },
  {
   "cell_type": "code",
   "execution_count": 43,
   "metadata": {},
   "outputs": [
    {
     "name": "stdout",
     "output_type": "stream",
     "text": [
      "24\n",
      "8\n",
      "1\n",
      "186\n",
      "78\n",
      "3\n",
      "5\n",
      "5\n",
      "4\n",
      "6\n",
      "3,4,6\n",
      "6,16,28\n",
      "0\n",
      "0\n"
     ]
    }
   ],
   "source": [
    "import csv\n",
    "import datetime\n",
    "from dateutil.relativedelta import relativedelta\n",
    "\n",
    "today = datetime.date.today()\n",
    "with open(\"/Users/jaeho/Work/yeoboya/recommender/data/tabula/member_mate.csv\", 'r') as f:\n",
    "    data = csv.reader(f)\n",
    "    next(data)\n",
    "\n",
    "    for row in data:\n",
    "        sex = row[1]\n",
    "        birth = datetime.date(int(row[4]), int(row[5]), int(row[6]))\n",
    "        rdelta = relativedelta(today, birth)\n",
    "        age = rdelta.years\n",
    "        \n",
    "        print(row[27])\n",
    "        print(row[29])\n",
    "        print(row[30])\n",
    "        print(row[31])\n",
    "        print(row[32])\n",
    "        print(row[33])\n",
    "        print(row[34])\n",
    "        print(row[35])\n",
    "        print(row[36])\n",
    "        print(row[37])\n",
    "        print(row[38])\n",
    "        print(row[39])\n",
    "        print(row[40])\n",
    "        print(row[41])\n",
    "        print(row[42])\n",
    "        print(row[43])\n",
    "\n",
    "        break\n"
   ]
  },
  {
   "cell_type": "code",
   "execution_count": 11,
   "metadata": {},
   "outputs": [],
   "source": [
    "from cassandra.cluster import Cluster, ExecutionProfile, EXEC_PROFILE_DEFAULT\n",
    "from cassandra.policies import WhiteListRoundRobinPolicy, DowngradingConsistencyRetryPolicy\n",
    "from cassandra.query import tuple_factory\n",
    "from cassandra.query import ConsistencyLevel\n",
    "\n",
    "profile = ExecutionProfile(\n",
    "    load_balancing_policy=WhiteListRoundRobinPolicy([\"61.80.148.154\"]),\n",
    "    retry_policy=DowngradingConsistencyRetryPolicy(),\n",
    "    consistency_level=ConsistencyLevel.LOCAL_QUORUM,\n",
    "    serial_consistency_level=ConsistencyLevel.LOCAL_SERIAL,\n",
    "    request_timeout=15,\n",
    "    row_factory=tuple_factory\n",
    ")\n",
    "\n",
    "cluster = Cluster([\"61.80.148.154\"], port=30003, execution_profiles={EXEC_PROFILE_DEFAULT : profile})\n",
    "session = cluster.connect()"
   ]
  },
  {
   "cell_type": "code",
   "execution_count": null,
   "metadata": {},
   "outputs": [],
   "source": []
  }
 ],
 "metadata": {
  "interpreter": {
   "hash": "393e5b38068eb876eb80188b682271d678a01212be2bf098948f8f00e474ec0f"
  },
  "kernelspec": {
   "display_name": "Python 3.10.9 ('tf')",
   "language": "python",
   "name": "python3"
  },
  "language_info": {
   "codemirror_mode": {
    "name": "ipython",
    "version": 3
   },
   "file_extension": ".py",
   "mimetype": "text/x-python",
   "name": "python",
   "nbconvert_exporter": "python",
   "pygments_lexer": "ipython3",
   "version": "3.10.9"
  },
  "orig_nbformat": 4
 },
 "nbformat": 4,
 "nbformat_minor": 2
}
