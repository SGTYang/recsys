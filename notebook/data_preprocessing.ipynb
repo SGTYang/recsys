{
 "cells": [
  {
   "cell_type": "code",
   "execution_count": null,
   "metadata": {},
   "outputs": [],
   "source": [
    "import pandas as pd\n",
    "hist = pd.read_csv(\"/Users/jaeho/Work/yeoboya/recommender/data/tabula/m_yeoboya_ai_dv_mem_item_use_hist.csv\")\n",
    "len(hist)"
   ]
  },
  {
   "cell_type": "code",
   "execution_count": null,
   "metadata": {},
   "outputs": [],
   "source": [
    "valid_code = {\n",
    "    \"mem_concn\",\n",
    "    \"msg_10day\",\n",
    "    \"msg_15day\",\n",
    "    \"msg_1day\",\n",
    "    \"msg_30day\",\n",
    "    \"msg_30day_2\",\n",
    "    \"msg_5day\",\n",
    "    \"msg_o1hr\",\n",
    "    \"pf_view\",\n",
    "    \"ps_view_10\",\n",
    "    \"ps_view_15\",\n",
    "    \"ps_view_30\",\n",
    "    \"ps_view_5\",\n",
    "    \"vo_mt\"\n",
    "}"
   ]
  },
  {
   "cell_type": "code",
   "execution_count": null,
   "metadata": {},
   "outputs": [],
   "source": [
    "from collections import defaultdict\n",
    "\n",
    "user_rating = defaultdict(dict)\n",
    "\n",
    "for _, row in hist.iterrows():\n",
    "    if row['item_code'] in valid_code:\n",
    "        if row['ptr_mem_no'] in user_rating[row['mem_no']]:\n",
    "            if user_rating[row['mem_no']][row['ptr_mem_no']] < 10:\n",
    "                user_rating[row['mem_no']][row['ptr_mem_no']] += 2\n",
    "        else:\n",
    "            user_rating[row['mem_no']][row['ptr_mem_no']] = 2\n",
    "        "
   ]
  },
  {
   "cell_type": "code",
   "execution_count": null,
   "metadata": {},
   "outputs": [],
   "source": [
    "######################### WRITING DATA #########################\n",
    "import pickle\n",
    "with open('./user_rating_test_data.pkl', 'wb') as f:\n",
    "    pickle.dump(user_rating, f)"
   ]
  },
  {
   "cell_type": "code",
   "execution_count": null,
   "metadata": {},
   "outputs": [],
   "source": [
    "import pandas as pd\n",
    "data = pd.read_csv('/Users/jaeho/Work/yeoboya/recommender/data/tabula/member_mate.csv')"
   ]
  },
  {
   "cell_type": "code",
   "execution_count": null,
   "metadata": {},
   "outputs": [],
   "source": [
    "data.shape"
   ]
  },
  {
   "cell_type": "code",
   "execution_count": null,
   "metadata": {},
   "outputs": [],
   "source": [
    "import pickle\n",
    "with open('/Users/jaeho/Work/yeoboya/recommender/data/pkl_files/user_rating_test_data.pkl', 'rb') as f:\n",
    "    user_rating = pickle.load(f)\n",
    "rated_user = set()\n",
    "rated_user2 = set()\n",
    "rated_user3 = set()\n",
    "\n",
    "\n",
    "for k, v in user_rating.items():\n",
    "    rated_user.add(k)\n",
    "    rated_user3.add(k)\n",
    "    for u,r in v.items():\n",
    "        rated_user2.add(u)\n",
    "        rated_user3.add(u)\n",
    "\n",
    "print(len(rated_user))\n",
    "print(len(rated_user2))\n",
    "print(len(rated_user3))"
   ]
  },
  {
   "cell_type": "code",
   "execution_count": null,
   "metadata": {},
   "outputs": [],
   "source": [
    "new_user_df = pd.DataFrame()\n",
    "\n",
    "for idx, row in data.iterrows():\n",
    "    if row['mem_no'] in rated_user3:\n",
    "        new_user_df = pd.concat([new_user_df, pd.DataFrame(row).T])"
   ]
  },
  {
   "cell_type": "code",
   "execution_count": null,
   "metadata": {},
   "outputs": [],
   "source": [
    "new_user_df.shape"
   ]
  },
  {
   "cell_type": "code",
   "execution_count": null,
   "metadata": {},
   "outputs": [],
   "source": [
    "mem_id = set(new_user_df['mem_no'].values)\n",
    "len(mem_id)"
   ]
  },
  {
   "cell_type": "code",
   "execution_count": null,
   "metadata": {},
   "outputs": [],
   "source": [
    "import pandas as pd\n",
    "data = pd.read_csv('/Users/jaeho/Work/yeoboya/recommender/data/tabula/m_yeoboya_ai_dv_member_mate_exit.csv')"
   ]
  },
  {
   "cell_type": "code",
   "execution_count": null,
   "metadata": {},
   "outputs": [],
   "source": [
    "exit_user_df = pd.DataFrame()\n",
    "\n",
    "for idx, row in data.iterrows():\n",
    "    if row['mem_no'] in rated_user3 and row['mem_no'] not in mem_id:\n",
    "        exit_user_df = pd.concat([exit_user_df, pd.DataFrame(row).T])"
   ]
  },
  {
   "cell_type": "code",
   "execution_count": null,
   "metadata": {},
   "outputs": [],
   "source": [
    "exit_user_df.shape"
   ]
  },
  {
   "cell_type": "code",
   "execution_count": null,
   "metadata": {},
   "outputs": [],
   "source": [
    "new_data_frame = pd.concat([new_user_df, exit_user_df])\n",
    "print(new_data_frame.shape)\n",
    "new_data_frame.head()"
   ]
  },
  {
   "cell_type": "code",
   "execution_count": null,
   "metadata": {},
   "outputs": [],
   "source": [
    "new_data_frame = new_data_frame.drop(columns=[\"chrgr_name\", \"exit_date\"])"
   ]
  },
  {
   "cell_type": "code",
   "execution_count": null,
   "metadata": {},
   "outputs": [],
   "source": [
    "train_mem_id = set(list(map(int, new_data_frame['mem_no'].tolist())))\n",
    "print(len(train_mem_id))"
   ]
  },
  {
   "cell_type": "code",
   "execution_count": null,
   "metadata": {},
   "outputs": [],
   "source": [
    "import pickle\n",
    "with open('/Users/jaeho/Work/yeoboya/recommender/data/pkl_files/user_rating_test_data.pkl', 'rb') as f:\n",
    "    user_rating_data = pickle.load(f)"
   ]
  },
  {
   "cell_type": "code",
   "execution_count": null,
   "metadata": {},
   "outputs": [],
   "source": [
    "print(len(user_rating_data))"
   ]
  },
  {
   "cell_type": "code",
   "execution_count": null,
   "metadata": {},
   "outputs": [],
   "source": [
    "from collections import defaultdict\n",
    "filtered_user_rating = defaultdict(dict)\n",
    "\n",
    "for k, v in user_rating_data.items():\n",
    "    if k in train_mem_id:\n",
    "        for u, r in v.items():\n",
    "            if u in train_mem_id:\n",
    "                filtered_user_rating[k][u] = r\n",
    "\n",
    "print(len(filtered_user_rating))"
   ]
  },
  {
   "cell_type": "code",
   "execution_count": null,
   "metadata": {},
   "outputs": [],
   "source": [
    "######################### WRITING DATA #########################\n",
    "import pickle\n",
    "with open(\"label_user_rating.pkl\", \"wb\") as f:\n",
    "    pickle.dump(filtered_user_rating, f)"
   ]
  },
  {
   "cell_type": "code",
   "execution_count": null,
   "metadata": {},
   "outputs": [],
   "source": [
    "import pickle\n",
    "import pandas as pd\n",
    "\n",
    "with open(\"/Users/jaeho/Work/yeoboya/recommender/data/nn_data/label/label_user_rating.pkl\", \"rb\") as f:\n",
    "    user_rating = pickle.load(f)\n",
    "user_info = pd.read_csv(\"/Users/jaeho/Work/yeoboya/recommender/data/nn_data/train/train_user_data.csv\")"
   ]
  },
  {
   "cell_type": "code",
   "execution_count": null,
   "metadata": {},
   "outputs": [],
   "source": [
    "print(len(user_rating))\n",
    "print(user_info.shape)\n",
    "user_info.head()"
   ]
  },
  {
   "cell_type": "code",
   "execution_count": null,
   "metadata": {},
   "outputs": [],
   "source": [
    "print(len(user_rating))"
   ]
  },
  {
   "cell_type": "code",
   "execution_count": null,
   "metadata": {},
   "outputs": [],
   "source": [
    "user_id_dict = {}\n",
    "used_id_set = set()\n",
    "\n",
    "id = 0\n",
    "for user_id, target in user_rating.items():\n",
    "    if user_id not in user_id_dict:\n",
    "        user_id_dict[user_id] = id\n",
    "        used_id_set.add(id)\n",
    "        id += 1\n",
    "        \n",
    "    for ptr_id, rating in target.items():\n",
    "        if ptr_id not in user_id_dict:\n",
    "            user_id_dict[ptr_id] = id\n",
    "            used_id_set.add(id)\n",
    "            id += 1\n",
    "\n",
    "print(len(used_id_set))\n",
    "print(len(user_id_dict))"
   ]
  },
  {
   "cell_type": "code",
   "execution_count": null,
   "metadata": {},
   "outputs": [],
   "source": [
    "from collections import defaultdict\n",
    "\n",
    "new_rating = defaultdict(dict)\n",
    "\n",
    "for user_id, target in user_rating.items():\n",
    "    for ptr_id, rating in target.items():\n",
    "        new_rating[user_id_dict[user_id]][user_id_dict[ptr_id]] = rating\n",
    "print(len(new_rating))"
   ]
  },
  {
   "cell_type": "code",
   "execution_count": null,
   "metadata": {},
   "outputs": [],
   "source": [
    "######################### WRITING DATA #########################\n",
    "import pickle\n",
    "\n",
    "with open(\"new_user_rating.pkl\", \"wb\") as f:\n",
    "    pickle.dump(new_rating, f)"
   ]
  },
  {
   "cell_type": "code",
   "execution_count": null,
   "metadata": {},
   "outputs": [],
   "source": [
    "import pandas as pd\n",
    "user_info = pd.read_csv(\"/Users/jaeho/Work/yeoboya/recommender/data/nn_data/train/train_user_data.csv\")\n",
    "user_info.head()"
   ]
  },
  {
   "cell_type": "code",
   "execution_count": null,
   "metadata": {},
   "outputs": [],
   "source": [
    "for i, row in user_info.iterrows():\n",
    "    user_info.loc[i, \"mem_no\"] = user_id_dict[row[\"mem_no\"]]\n",
    "user_info.head()"
   ]
  },
  {
   "cell_type": "code",
   "execution_count": null,
   "metadata": {},
   "outputs": [],
   "source": [
    "######################### WRITING DATA #########################\n",
    "user_info.to_csv(\"new_user_data.csv\", index=False)"
   ]
  },
  {
   "cell_type": "code",
   "execution_count": null,
   "metadata": {},
   "outputs": [],
   "source": [
    "user_info.shape"
   ]
  }
 ],
 "metadata": {
  "interpreter": {
   "hash": "393e5b38068eb876eb80188b682271d678a01212be2bf098948f8f00e474ec0f"
  },
  "kernelspec": {
   "display_name": "Python 3.10.9 ('tf')",
   "language": "python",
   "name": "python3"
  },
  "language_info": {
   "codemirror_mode": {
    "name": "ipython",
    "version": 3
   },
   "file_extension": ".py",
   "mimetype": "text/x-python",
   "name": "python",
   "nbconvert_exporter": "python",
   "pygments_lexer": "ipython3",
   "version": "3.10.9"
  },
  "orig_nbformat": 4
 },
 "nbformat": 4,
 "nbformat_minor": 2
}
