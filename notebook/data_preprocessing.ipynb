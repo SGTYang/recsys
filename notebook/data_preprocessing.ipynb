{
 "cells": [
  {
   "cell_type": "code",
   "execution_count": 1,
   "metadata": {},
   "outputs": [
    {
     "data": {
      "text/plain": [
       "488439"
      ]
     },
     "execution_count": 1,
     "metadata": {},
     "output_type": "execute_result"
    }
   ],
   "source": [
    "import pandas as pd\n",
    "hist = pd.read_csv(\"/Users/jaeho/Work/yeoboya/recommender/data/tabula/m_yeoboya_ai_dv_mem_item_use_hist.csv\")\n",
    "len(hist)"
   ]
  },
  {
   "cell_type": "code",
   "execution_count": 26,
   "metadata": {},
   "outputs": [],
   "source": [
    "valid_code = {\n",
    "    \"mem_concn\",\n",
    "    \"msg_10day\",\n",
    "    \"msg_15day\",\n",
    "    \"msg_1day\",\n",
    "    \"msg_30day\",\n",
    "    \"msg_30day_2\",\n",
    "    \"msg_5day\",\n",
    "    \"msg_o1hr\",\n",
    "    \"pf_view\",\n",
    "    \"ps_view_10\",\n",
    "    \"ps_view_15\",\n",
    "    \"ps_view_30\",\n",
    "    \"ps_view_5\",\n",
    "    \"vo_mt\"\n",
    "}"
   ]
  },
  {
   "cell_type": "code",
   "execution_count": 27,
   "metadata": {},
   "outputs": [],
   "source": [
    "from collections import defaultdict\n",
    "\n",
    "user_rating = defaultdict(dict)\n",
    "\n",
    "for _, row in hist.iterrows():\n",
    "    if row['item_code'] in valid_code:\n",
    "        if row['ptr_mem_no'] in user_rating[row['mem_no']]:\n",
    "            if user_rating[row['mem_no']][row['ptr_mem_no']] < 10:\n",
    "                user_rating[row['mem_no']][row['ptr_mem_no']] += 2\n",
    "        else:\n",
    "            user_rating[row['mem_no']][row['ptr_mem_no']] = 2\n",
    "        "
   ]
  },
  {
   "cell_type": "code",
   "execution_count": null,
   "metadata": {},
   "outputs": [],
   "source": [
    "######################### WRITING DATA #########################\n",
    "import pickle\n",
    "with open('./user_rating_test_data.pkl', 'wb') as f:\n",
    "    pickle.dump(user_rating, f)"
   ]
  },
  {
   "cell_type": "code",
   "execution_count": 36,
   "metadata": {},
   "outputs": [
    {
     "name": "stderr",
     "output_type": "stream",
     "text": [
      "/var/folders/23/z66xfw69593_wvynw4k7bb080000gn/T/ipykernel_42827/3952582950.py:2: DtypeWarning: Columns (22,26,33,34,35,36,37,45,46,50,51,59,63,64,65,66,72,80) have mixed types. Specify dtype option on import or set low_memory=False.\n",
      "  data = pd.read_csv('/Users/jaeho/Work/yeoboya/recommender/data/tabula/member_mate.csv')\n"
     ]
    }
   ],
   "source": [
    "import pandas as pd\n",
    "data = pd.read_csv('/Users/jaeho/Work/yeoboya/recommender/data/tabula/member_mate.csv')"
   ]
  },
  {
   "cell_type": "code",
   "execution_count": 37,
   "metadata": {},
   "outputs": [
    {
     "data": {
      "text/plain": [
       "(114744, 87)"
      ]
     },
     "execution_count": 37,
     "metadata": {},
     "output_type": "execute_result"
    }
   ],
   "source": [
    "data.shape"
   ]
  },
  {
   "cell_type": "code",
   "execution_count": 38,
   "metadata": {},
   "outputs": [
    {
     "name": "stdout",
     "output_type": "stream",
     "text": [
      "27448\n",
      "23753\n",
      "49612\n"
     ]
    }
   ],
   "source": [
    "import pickle\n",
    "with open('/Users/jaeho/Work/yeoboya/recommender/data/pkl_files/user_rating_test_data.pkl', 'rb') as f:\n",
    "    user_rating = pickle.load(f)\n",
    "rated_user = set()\n",
    "rated_user2 = set()\n",
    "rated_user3 = set()\n",
    "\n",
    "\n",
    "for k, v in user_rating.items():\n",
    "    rated_user.add(k)\n",
    "    rated_user3.add(k)\n",
    "    for u,r in v.items():\n",
    "        rated_user2.add(u)\n",
    "        rated_user3.add(u)\n",
    "\n",
    "print(len(rated_user))\n",
    "print(len(rated_user2))\n",
    "print(len(rated_user3))"
   ]
  },
  {
   "cell_type": "code",
   "execution_count": 39,
   "metadata": {},
   "outputs": [],
   "source": [
    "new_user_df = pd.DataFrame()\n",
    "\n",
    "for idx, row in data.iterrows():\n",
    "    if row['mem_no'] in rated_user3:\n",
    "        new_user_df = pd.concat([new_user_df, pd.DataFrame(row).T])"
   ]
  },
  {
   "cell_type": "code",
   "execution_count": 40,
   "metadata": {},
   "outputs": [
    {
     "data": {
      "text/plain": [
       "(17920, 87)"
      ]
     },
     "execution_count": 40,
     "metadata": {},
     "output_type": "execute_result"
    }
   ],
   "source": [
    "new_user_df.shape"
   ]
  },
  {
   "cell_type": "code",
   "execution_count": 41,
   "metadata": {},
   "outputs": [
    {
     "data": {
      "text/plain": [
       "17920"
      ]
     },
     "execution_count": 41,
     "metadata": {},
     "output_type": "execute_result"
    }
   ],
   "source": [
    "mem_id = set(new_user_df['mem_no'].values)\n",
    "len(mem_id)"
   ]
  },
  {
   "cell_type": "code",
   "execution_count": 42,
   "metadata": {},
   "outputs": [
    {
     "name": "stderr",
     "output_type": "stream",
     "text": [
      "/var/folders/23/z66xfw69593_wvynw4k7bb080000gn/T/ipykernel_42827/2266004855.py:2: DtypeWarning: Columns (0,5,14,15,20,21,26,27,28,29,30,31,32,37,38,40,41,43,44,46,47,48,50,51,52,53,54,55,56,58,59,60,61,63,67,75,76) have mixed types. Specify dtype option on import or set low_memory=False.\n",
      "  data = pd.read_csv('/Users/jaeho/Work/yeoboya/recommender/data/tabula/m_yeoboya_ai_dv_member_mate_exit.csv')\n"
     ]
    }
   ],
   "source": [
    "import pandas as pd\n",
    "data = pd.read_csv('/Users/jaeho/Work/yeoboya/recommender/data/tabula/m_yeoboya_ai_dv_member_mate_exit.csv')"
   ]
  },
  {
   "cell_type": "code",
   "execution_count": 45,
   "metadata": {},
   "outputs": [],
   "source": [
    "exit_user_df = pd.DataFrame()\n",
    "\n",
    "for idx, row in data.iterrows():\n",
    "    if row['mem_no'] in rated_user3 and row['mem_no'] not in mem_id:\n",
    "        exit_user_df = pd.concat([exit_user_df, pd.DataFrame(row).T])"
   ]
  },
  {
   "cell_type": "code",
   "execution_count": 46,
   "metadata": {},
   "outputs": [
    {
     "data": {
      "text/plain": [
       "(7129, 83)"
      ]
     },
     "execution_count": 46,
     "metadata": {},
     "output_type": "execute_result"
    }
   ],
   "source": [
    "exit_user_df.shape"
   ]
  },
  {
   "cell_type": "code",
   "execution_count": 49,
   "metadata": {},
   "outputs": [
    {
     "name": "stdout",
     "output_type": "stream",
     "text": [
      "(25049, 89)\n"
     ]
    },
    {
     "data": {
      "text/html": [
       "<div>\n",
       "<style scoped>\n",
       "    .dataframe tbody tr th:only-of-type {\n",
       "        vertical-align: middle;\n",
       "    }\n",
       "\n",
       "    .dataframe tbody tr th {\n",
       "        vertical-align: top;\n",
       "    }\n",
       "\n",
       "    .dataframe thead th {\n",
       "        text-align: right;\n",
       "    }\n",
       "</style>\n",
       "<table border=\"1\" class=\"dataframe\">\n",
       "  <thead>\n",
       "    <tr style=\"text-align: right;\">\n",
       "      <th></th>\n",
       "      <th>mem_no</th>\n",
       "      <th>mem_sex</th>\n",
       "      <th>mem_loc</th>\n",
       "      <th>mem_l_code</th>\n",
       "      <th>mem_birth_year</th>\n",
       "      <th>mem_birth_month</th>\n",
       "      <th>mem_birth_day</th>\n",
       "      <th>mem_birth_date</th>\n",
       "      <th>mem_birth_ddi</th>\n",
       "      <th>mate_slct</th>\n",
       "      <th>...</th>\n",
       "      <th>secret_yn</th>\n",
       "      <th>respect_person_cont</th>\n",
       "      <th>my_point_cont</th>\n",
       "      <th>list_prt_yn</th>\n",
       "      <th>my_hd_item_yn</th>\n",
       "      <th>my_hd_yn</th>\n",
       "      <th>ins_date</th>\n",
       "      <th>upd_date</th>\n",
       "      <th>chrgr_name</th>\n",
       "      <th>exit_date</th>\n",
       "    </tr>\n",
       "  </thead>\n",
       "  <tbody>\n",
       "    <tr>\n",
       "      <th>0</th>\n",
       "      <td>5</td>\n",
       "      <td>m</td>\n",
       "      <td>q</td>\n",
       "      <td>qnz</td>\n",
       "      <td>1985</td>\n",
       "      <td>6</td>\n",
       "      <td>3</td>\n",
       "      <td>1985-06-03</td>\n",
       "      <td>5</td>\n",
       "      <td>w</td>\n",
       "      <td>...</td>\n",
       "      <td>n</td>\n",
       "      <td>NaN</td>\n",
       "      <td>90.0</td>\n",
       "      <td>y</td>\n",
       "      <td>n</td>\n",
       "      <td>n</td>\n",
       "      <td>2015-07-22 16:31:35</td>\n",
       "      <td>2023-06-27 14:18:35</td>\n",
       "      <td>NaN</td>\n",
       "      <td>NaN</td>\n",
       "    </tr>\n",
       "    <tr>\n",
       "      <th>6</th>\n",
       "      <td>211</td>\n",
       "      <td>m</td>\n",
       "      <td>e</td>\n",
       "      <td>e05</td>\n",
       "      <td>1966</td>\n",
       "      <td>2</td>\n",
       "      <td>0</td>\n",
       "      <td>0000-00-00</td>\n",
       "      <td>10</td>\n",
       "      <td>r</td>\n",
       "      <td>...</td>\n",
       "      <td>n</td>\n",
       "      <td>NaN</td>\n",
       "      <td>100.0</td>\n",
       "      <td>y</td>\n",
       "      <td>n</td>\n",
       "      <td>n</td>\n",
       "      <td>2015-08-09 13:48:39</td>\n",
       "      <td>2023-06-17 22:57:48</td>\n",
       "      <td>NaN</td>\n",
       "      <td>NaN</td>\n",
       "    </tr>\n",
       "    <tr>\n",
       "      <th>10</th>\n",
       "      <td>1350974</td>\n",
       "      <td>m</td>\n",
       "      <td>l</td>\n",
       "      <td>l04</td>\n",
       "      <td>1977</td>\n",
       "      <td>10</td>\n",
       "      <td>21</td>\n",
       "      <td>1977-10-21</td>\n",
       "      <td>9</td>\n",
       "      <td>r</td>\n",
       "      <td>...</td>\n",
       "      <td>n</td>\n",
       "      <td>NaN</td>\n",
       "      <td>NaN</td>\n",
       "      <td>y</td>\n",
       "      <td>n</td>\n",
       "      <td>n</td>\n",
       "      <td>2020-10-25 13:25:37</td>\n",
       "      <td>2023-06-28 10:42:26</td>\n",
       "      <td>NaN</td>\n",
       "      <td>NaN</td>\n",
       "    </tr>\n",
       "    <tr>\n",
       "      <th>19</th>\n",
       "      <td>120722</td>\n",
       "      <td>m</td>\n",
       "      <td>g</td>\n",
       "      <td>g03</td>\n",
       "      <td>1971</td>\n",
       "      <td>3</td>\n",
       "      <td>0</td>\n",
       "      <td>0000-00-00</td>\n",
       "      <td>3</td>\n",
       "      <td>r</td>\n",
       "      <td>...</td>\n",
       "      <td>n</td>\n",
       "      <td>NaN</td>\n",
       "      <td>88.0</td>\n",
       "      <td>y</td>\n",
       "      <td>n</td>\n",
       "      <td>n</td>\n",
       "      <td>2017-03-12 10:34:49</td>\n",
       "      <td>2023-06-10 10:31:31</td>\n",
       "      <td>NaN</td>\n",
       "      <td>NaN</td>\n",
       "    </tr>\n",
       "    <tr>\n",
       "      <th>50</th>\n",
       "      <td>1451758</td>\n",
       "      <td>m</td>\n",
       "      <td>n</td>\n",
       "      <td>n12</td>\n",
       "      <td>1977</td>\n",
       "      <td>12</td>\n",
       "      <td>0</td>\n",
       "      <td>0000-00-00</td>\n",
       "      <td>9</td>\n",
       "      <td>r</td>\n",
       "      <td>...</td>\n",
       "      <td>n</td>\n",
       "      <td>NaN</td>\n",
       "      <td>80.0</td>\n",
       "      <td>y</td>\n",
       "      <td>n</td>\n",
       "      <td>n</td>\n",
       "      <td>2021-01-30 21:38:29</td>\n",
       "      <td>2023-06-19 20:04:55</td>\n",
       "      <td>NaN</td>\n",
       "      <td>NaN</td>\n",
       "    </tr>\n",
       "  </tbody>\n",
       "</table>\n",
       "<p>5 rows × 89 columns</p>\n",
       "</div>"
      ],
      "text/plain": [
       "     mem_no mem_sex mem_loc mem_l_code mem_birth_year mem_birth_month  \\\n",
       "0         5       m       q        qnz           1985               6   \n",
       "6       211       m       e        e05           1966               2   \n",
       "10  1350974       m       l        l04           1977              10   \n",
       "19   120722       m       g        g03           1971               3   \n",
       "50  1451758       m       n        n12           1977              12   \n",
       "\n",
       "   mem_birth_day mem_birth_date mem_birth_ddi mate_slct  ... secret_yn  \\\n",
       "0              3     1985-06-03             5         w  ...         n   \n",
       "6              0     0000-00-00            10         r  ...         n   \n",
       "10            21     1977-10-21             9         r  ...         n   \n",
       "19             0     0000-00-00             3         r  ...         n   \n",
       "50             0     0000-00-00             9         r  ...         n   \n",
       "\n",
       "   respect_person_cont my_point_cont list_prt_yn my_hd_item_yn my_hd_yn  \\\n",
       "0                  NaN          90.0           y             n        n   \n",
       "6                  NaN         100.0           y             n        n   \n",
       "10                 NaN           NaN           y             n        n   \n",
       "19                 NaN          88.0           y             n        n   \n",
       "50                 NaN          80.0           y             n        n   \n",
       "\n",
       "               ins_date             upd_date chrgr_name exit_date  \n",
       "0   2015-07-22 16:31:35  2023-06-27 14:18:35        NaN       NaN  \n",
       "6   2015-08-09 13:48:39  2023-06-17 22:57:48        NaN       NaN  \n",
       "10  2020-10-25 13:25:37  2023-06-28 10:42:26        NaN       NaN  \n",
       "19  2017-03-12 10:34:49  2023-06-10 10:31:31        NaN       NaN  \n",
       "50  2021-01-30 21:38:29  2023-06-19 20:04:55        NaN       NaN  \n",
       "\n",
       "[5 rows x 89 columns]"
      ]
     },
     "execution_count": 49,
     "metadata": {},
     "output_type": "execute_result"
    }
   ],
   "source": [
    "new_data_frame = pd.concat([new_user_df, exit_user_df])\n",
    "print(new_data_frame.shape)\n",
    "new_data_frame.head()"
   ]
  },
  {
   "cell_type": "code",
   "execution_count": 61,
   "metadata": {},
   "outputs": [],
   "source": [
    "new_data_frame = new_data_frame.drop(columns=[\"chrgr_name\", \"exit_date\"])"
   ]
  },
  {
   "cell_type": "code",
   "execution_count": 51,
   "metadata": {},
   "outputs": [
    {
     "name": "stdout",
     "output_type": "stream",
     "text": [
      "25049\n"
     ]
    }
   ],
   "source": [
    "train_mem_id = set(list(map(int, new_data_frame['mem_no'].tolist())))\n",
    "print(len(train_mem_id))"
   ]
  },
  {
   "cell_type": "code",
   "execution_count": 52,
   "metadata": {},
   "outputs": [],
   "source": [
    "import pickle\n",
    "with open('/Users/jaeho/Work/yeoboya/recommender/data/pkl_files/user_rating_test_data.pkl', 'rb') as f:\n",
    "    user_rating_data = pickle.load(f)"
   ]
  },
  {
   "cell_type": "code",
   "execution_count": 53,
   "metadata": {},
   "outputs": [
    {
     "name": "stdout",
     "output_type": "stream",
     "text": [
      "27448\n"
     ]
    }
   ],
   "source": [
    "print(len(user_rating_data))"
   ]
  },
  {
   "cell_type": "code",
   "execution_count": 54,
   "metadata": {},
   "outputs": [
    {
     "name": "stdout",
     "output_type": "stream",
     "text": [
      "11892\n"
     ]
    }
   ],
   "source": [
    "from collections import defaultdict\n",
    "filtered_user_rating = defaultdict(dict)\n",
    "\n",
    "for k, v in user_rating_data.items():\n",
    "    if k in train_mem_id:\n",
    "        for u, r in v.items():\n",
    "            if u in train_mem_id:\n",
    "                filtered_user_rating[k][u] = r\n",
    "\n",
    "print(len(filtered_user_rating))"
   ]
  },
  {
   "cell_type": "code",
   "execution_count": 55,
   "metadata": {},
   "outputs": [],
   "source": [
    "######################### WRITING DATA #########################\n",
    "import pickle\n",
    "with open(\"label_user_rating.pkl\", \"wb\") as f:\n",
    "    pickle.dump(filtered_user_rating, f)"
   ]
  },
  {
   "cell_type": "code",
   "execution_count": 65,
   "metadata": {},
   "outputs": [
    {
     "name": "stderr",
     "output_type": "stream",
     "text": [
      "/var/folders/23/z66xfw69593_wvynw4k7bb080000gn/T/ipykernel_42827/1504141475.py:6: DtypeWarning: Columns (7,22,25,26,33,34,37,63,64,65,66,82) have mixed types. Specify dtype option on import or set low_memory=False.\n",
      "  user_info = pd.read_csv(\"/Users/jaeho/Work/yeoboya/recommender/data/nn_data/train/train_user_data.csv\")\n"
     ]
    }
   ],
   "source": [
    "import pickle\n",
    "import pandas as pd\n",
    "\n",
    "with open(\"/Users/jaeho/Work/yeoboya/recommender/data/nn_data/label/label_user_rating.pkl\", \"rb\") as f:\n",
    "    user_rating = pickle.load(f)\n",
    "user_info = pd.read_csv(\"/Users/jaeho/Work/yeoboya/recommender/data/nn_data/train/train_user_data.csv\")"
   ]
  },
  {
   "cell_type": "code",
   "execution_count": 66,
   "metadata": {},
   "outputs": [
    {
     "name": "stdout",
     "output_type": "stream",
     "text": [
      "11892\n",
      "(20696, 87)\n"
     ]
    },
    {
     "data": {
      "text/html": [
       "<div>\n",
       "<style scoped>\n",
       "    .dataframe tbody tr th:only-of-type {\n",
       "        vertical-align: middle;\n",
       "    }\n",
       "\n",
       "    .dataframe tbody tr th {\n",
       "        vertical-align: top;\n",
       "    }\n",
       "\n",
       "    .dataframe thead th {\n",
       "        text-align: right;\n",
       "    }\n",
       "</style>\n",
       "<table border=\"1\" class=\"dataframe\">\n",
       "  <thead>\n",
       "    <tr style=\"text-align: right;\">\n",
       "      <th></th>\n",
       "      <th>mem_no</th>\n",
       "      <th>mem_sex</th>\n",
       "      <th>mem_loc</th>\n",
       "      <th>mem_l_code</th>\n",
       "      <th>mem_birth_year</th>\n",
       "      <th>mem_birth_month</th>\n",
       "      <th>mem_birth_day</th>\n",
       "      <th>mem_birth_date</th>\n",
       "      <th>mem_birth_ddi</th>\n",
       "      <th>mate_slct</th>\n",
       "      <th>...</th>\n",
       "      <th>family_conts_upd_cnt</th>\n",
       "      <th>secret_item_yn</th>\n",
       "      <th>secret_yn</th>\n",
       "      <th>respect_person_cont</th>\n",
       "      <th>my_point_cont</th>\n",
       "      <th>list_prt_yn</th>\n",
       "      <th>my_hd_item_yn</th>\n",
       "      <th>my_hd_yn</th>\n",
       "      <th>ins_date</th>\n",
       "      <th>upd_date</th>\n",
       "    </tr>\n",
       "  </thead>\n",
       "  <tbody>\n",
       "    <tr>\n",
       "      <th>0</th>\n",
       "      <td>5</td>\n",
       "      <td>m</td>\n",
       "      <td>q</td>\n",
       "      <td>qnz</td>\n",
       "      <td>1985.0</td>\n",
       "      <td>6.0</td>\n",
       "      <td>3.0</td>\n",
       "      <td>1985-06-03</td>\n",
       "      <td>5.0</td>\n",
       "      <td>w</td>\n",
       "      <td>...</td>\n",
       "      <td>14.0</td>\n",
       "      <td>n</td>\n",
       "      <td>n</td>\n",
       "      <td>NaN</td>\n",
       "      <td>90.0</td>\n",
       "      <td>y</td>\n",
       "      <td>n</td>\n",
       "      <td>n</td>\n",
       "      <td>2015-07-22 16:31:35</td>\n",
       "      <td>2023-06-27 14:18:35</td>\n",
       "    </tr>\n",
       "    <tr>\n",
       "      <th>1</th>\n",
       "      <td>211</td>\n",
       "      <td>m</td>\n",
       "      <td>e</td>\n",
       "      <td>e05</td>\n",
       "      <td>1966.0</td>\n",
       "      <td>2.0</td>\n",
       "      <td>0.0</td>\n",
       "      <td>0000-00-00</td>\n",
       "      <td>10.0</td>\n",
       "      <td>r</td>\n",
       "      <td>...</td>\n",
       "      <td>9.0</td>\n",
       "      <td>n</td>\n",
       "      <td>n</td>\n",
       "      <td>NaN</td>\n",
       "      <td>100.0</td>\n",
       "      <td>y</td>\n",
       "      <td>n</td>\n",
       "      <td>n</td>\n",
       "      <td>2015-08-09 13:48:39</td>\n",
       "      <td>2023-06-17 22:57:48</td>\n",
       "    </tr>\n",
       "    <tr>\n",
       "      <th>2</th>\n",
       "      <td>1350974</td>\n",
       "      <td>m</td>\n",
       "      <td>l</td>\n",
       "      <td>l04</td>\n",
       "      <td>1977.0</td>\n",
       "      <td>10.0</td>\n",
       "      <td>21.0</td>\n",
       "      <td>1977-10-21</td>\n",
       "      <td>9.0</td>\n",
       "      <td>r</td>\n",
       "      <td>...</td>\n",
       "      <td>102.0</td>\n",
       "      <td>n</td>\n",
       "      <td>n</td>\n",
       "      <td>NaN</td>\n",
       "      <td>NaN</td>\n",
       "      <td>y</td>\n",
       "      <td>n</td>\n",
       "      <td>n</td>\n",
       "      <td>2020-10-25 13:25:37</td>\n",
       "      <td>2023-06-28 10:42:26</td>\n",
       "    </tr>\n",
       "    <tr>\n",
       "      <th>3</th>\n",
       "      <td>120722</td>\n",
       "      <td>m</td>\n",
       "      <td>g</td>\n",
       "      <td>g03</td>\n",
       "      <td>1971.0</td>\n",
       "      <td>3.0</td>\n",
       "      <td>0.0</td>\n",
       "      <td>0000-00-00</td>\n",
       "      <td>3.0</td>\n",
       "      <td>r</td>\n",
       "      <td>...</td>\n",
       "      <td>5.0</td>\n",
       "      <td>n</td>\n",
       "      <td>n</td>\n",
       "      <td>NaN</td>\n",
       "      <td>88.0</td>\n",
       "      <td>y</td>\n",
       "      <td>n</td>\n",
       "      <td>n</td>\n",
       "      <td>2017-03-12 10:34:49</td>\n",
       "      <td>2023-06-10 10:31:31</td>\n",
       "    </tr>\n",
       "    <tr>\n",
       "      <th>4</th>\n",
       "      <td>1845</td>\n",
       "      <td>m</td>\n",
       "      <td>b</td>\n",
       "      <td>b16</td>\n",
       "      <td>1965.0</td>\n",
       "      <td>10.0</td>\n",
       "      <td>0.0</td>\n",
       "      <td>0000-00-00</td>\n",
       "      <td>9.0</td>\n",
       "      <td>r</td>\n",
       "      <td>...</td>\n",
       "      <td>1.0</td>\n",
       "      <td>n</td>\n",
       "      <td>n</td>\n",
       "      <td>NaN</td>\n",
       "      <td>80.0</td>\n",
       "      <td>y</td>\n",
       "      <td>n</td>\n",
       "      <td>n</td>\n",
       "      <td>2015-09-09 23:16:54</td>\n",
       "      <td>2022-11-02 21:55:29</td>\n",
       "    </tr>\n",
       "  </tbody>\n",
       "</table>\n",
       "<p>5 rows × 87 columns</p>\n",
       "</div>"
      ],
      "text/plain": [
       "    mem_no mem_sex mem_loc mem_l_code  mem_birth_year  mem_birth_month  \\\n",
       "0        5       m       q        qnz          1985.0              6.0   \n",
       "1      211       m       e        e05          1966.0              2.0   \n",
       "2  1350974       m       l        l04          1977.0             10.0   \n",
       "3   120722       m       g        g03          1971.0              3.0   \n",
       "4     1845       m       b        b16          1965.0             10.0   \n",
       "\n",
       "   mem_birth_day mem_birth_date  mem_birth_ddi mate_slct  ...  \\\n",
       "0            3.0     1985-06-03            5.0         w  ...   \n",
       "1            0.0     0000-00-00           10.0         r  ...   \n",
       "2           21.0     1977-10-21            9.0         r  ...   \n",
       "3            0.0     0000-00-00            3.0         r  ...   \n",
       "4            0.0     0000-00-00            9.0         r  ...   \n",
       "\n",
       "  family_conts_upd_cnt secret_item_yn  secret_yn respect_person_cont  \\\n",
       "0                 14.0              n          n                 NaN   \n",
       "1                  9.0              n          n                 NaN   \n",
       "2                102.0              n          n                 NaN   \n",
       "3                  5.0              n          n                 NaN   \n",
       "4                  1.0              n          n                 NaN   \n",
       "\n",
       "  my_point_cont list_prt_yn my_hd_item_yn my_hd_yn             ins_date  \\\n",
       "0          90.0           y             n        n  2015-07-22 16:31:35   \n",
       "1         100.0           y             n        n  2015-08-09 13:48:39   \n",
       "2           NaN           y             n        n  2020-10-25 13:25:37   \n",
       "3          88.0           y             n        n  2017-03-12 10:34:49   \n",
       "4          80.0           y             n        n  2015-09-09 23:16:54   \n",
       "\n",
       "              upd_date  \n",
       "0  2023-06-27 14:18:35  \n",
       "1  2023-06-17 22:57:48  \n",
       "2  2023-06-28 10:42:26  \n",
       "3  2023-06-10 10:31:31  \n",
       "4  2022-11-02 21:55:29  \n",
       "\n",
       "[5 rows x 87 columns]"
      ]
     },
     "execution_count": 66,
     "metadata": {},
     "output_type": "execute_result"
    }
   ],
   "source": [
    "print(len(user_rating))\n",
    "print(user_info.shape)\n",
    "user_info.head()"
   ]
  },
  {
   "cell_type": "code",
   "execution_count": 67,
   "metadata": {},
   "outputs": [
    {
     "name": "stdout",
     "output_type": "stream",
     "text": [
      "11892\n"
     ]
    }
   ],
   "source": [
    "print(len(user_rating))"
   ]
  },
  {
   "cell_type": "code",
   "execution_count": 68,
   "metadata": {},
   "outputs": [
    {
     "name": "stdout",
     "output_type": "stream",
     "text": [
      "20696\n",
      "20696\n"
     ]
    }
   ],
   "source": [
    "user_id_dict = {}\n",
    "used_id_set = set()\n",
    "\n",
    "id = 0\n",
    "for user_id, target in user_rating.items():\n",
    "    if user_id not in user_id_dict:\n",
    "        user_id_dict[user_id] = id\n",
    "        used_id_set.add(id)\n",
    "        id += 1\n",
    "        \n",
    "    for ptr_id, rating in target.items():\n",
    "        if ptr_id not in user_id_dict:\n",
    "            user_id_dict[ptr_id] = id\n",
    "            used_id_set.add(id)\n",
    "            id += 1\n",
    "\n",
    "print(len(used_id_set))\n",
    "print(len(user_id_dict))"
   ]
  },
  {
   "cell_type": "code",
   "execution_count": 72,
   "metadata": {},
   "outputs": [
    {
     "name": "stdout",
     "output_type": "stream",
     "text": [
      "11892\n"
     ]
    }
   ],
   "source": [
    "from collections import defaultdict\n",
    "\n",
    "new_rating = defaultdict(dict)\n",
    "\n",
    "for user_id, target in user_rating.items():\n",
    "    for ptr_id, rating in target.items():\n",
    "        new_rating[user_id_dict[user_id]][user_id_dict[ptr_id]] = rating\n",
    "print(len(new_rating))"
   ]
  },
  {
   "cell_type": "code",
   "execution_count": 75,
   "metadata": {},
   "outputs": [],
   "source": [
    "######################### WRITING DATA #########################\n",
    "import pickle\n",
    "\n",
    "with open(\"new_user_rating.pkl\", \"wb\") as f:\n",
    "    pickle.dump(new_rating, f)"
   ]
  },
  {
   "cell_type": "code",
   "execution_count": 77,
   "metadata": {},
   "outputs": [
    {
     "name": "stderr",
     "output_type": "stream",
     "text": [
      "/var/folders/23/z66xfw69593_wvynw4k7bb080000gn/T/ipykernel_42827/712380287.py:2: DtypeWarning: Columns (7,22,25,26,33,34,37,63,64,65,66,82) have mixed types. Specify dtype option on import or set low_memory=False.\n",
      "  user_info = pd.read_csv(\"/Users/jaeho/Work/yeoboya/recommender/data/nn_data/train/train_user_data.csv\")\n"
     ]
    },
    {
     "data": {
      "text/html": [
       "<div>\n",
       "<style scoped>\n",
       "    .dataframe tbody tr th:only-of-type {\n",
       "        vertical-align: middle;\n",
       "    }\n",
       "\n",
       "    .dataframe tbody tr th {\n",
       "        vertical-align: top;\n",
       "    }\n",
       "\n",
       "    .dataframe thead th {\n",
       "        text-align: right;\n",
       "    }\n",
       "</style>\n",
       "<table border=\"1\" class=\"dataframe\">\n",
       "  <thead>\n",
       "    <tr style=\"text-align: right;\">\n",
       "      <th></th>\n",
       "      <th>mem_no</th>\n",
       "      <th>mem_sex</th>\n",
       "      <th>mem_loc</th>\n",
       "      <th>mem_l_code</th>\n",
       "      <th>mem_birth_year</th>\n",
       "      <th>mem_birth_month</th>\n",
       "      <th>mem_birth_day</th>\n",
       "      <th>mem_birth_date</th>\n",
       "      <th>mem_birth_ddi</th>\n",
       "      <th>mate_slct</th>\n",
       "      <th>...</th>\n",
       "      <th>family_conts_upd_cnt</th>\n",
       "      <th>secret_item_yn</th>\n",
       "      <th>secret_yn</th>\n",
       "      <th>respect_person_cont</th>\n",
       "      <th>my_point_cont</th>\n",
       "      <th>list_prt_yn</th>\n",
       "      <th>my_hd_item_yn</th>\n",
       "      <th>my_hd_yn</th>\n",
       "      <th>ins_date</th>\n",
       "      <th>upd_date</th>\n",
       "    </tr>\n",
       "  </thead>\n",
       "  <tbody>\n",
       "    <tr>\n",
       "      <th>0</th>\n",
       "      <td>5</td>\n",
       "      <td>m</td>\n",
       "      <td>q</td>\n",
       "      <td>qnz</td>\n",
       "      <td>1985.0</td>\n",
       "      <td>6.0</td>\n",
       "      <td>3.0</td>\n",
       "      <td>1985-06-03</td>\n",
       "      <td>5.0</td>\n",
       "      <td>w</td>\n",
       "      <td>...</td>\n",
       "      <td>14.0</td>\n",
       "      <td>n</td>\n",
       "      <td>n</td>\n",
       "      <td>NaN</td>\n",
       "      <td>90.0</td>\n",
       "      <td>y</td>\n",
       "      <td>n</td>\n",
       "      <td>n</td>\n",
       "      <td>2015-07-22 16:31:35</td>\n",
       "      <td>2023-06-27 14:18:35</td>\n",
       "    </tr>\n",
       "    <tr>\n",
       "      <th>1</th>\n",
       "      <td>211</td>\n",
       "      <td>m</td>\n",
       "      <td>e</td>\n",
       "      <td>e05</td>\n",
       "      <td>1966.0</td>\n",
       "      <td>2.0</td>\n",
       "      <td>0.0</td>\n",
       "      <td>0000-00-00</td>\n",
       "      <td>10.0</td>\n",
       "      <td>r</td>\n",
       "      <td>...</td>\n",
       "      <td>9.0</td>\n",
       "      <td>n</td>\n",
       "      <td>n</td>\n",
       "      <td>NaN</td>\n",
       "      <td>100.0</td>\n",
       "      <td>y</td>\n",
       "      <td>n</td>\n",
       "      <td>n</td>\n",
       "      <td>2015-08-09 13:48:39</td>\n",
       "      <td>2023-06-17 22:57:48</td>\n",
       "    </tr>\n",
       "    <tr>\n",
       "      <th>2</th>\n",
       "      <td>1350974</td>\n",
       "      <td>m</td>\n",
       "      <td>l</td>\n",
       "      <td>l04</td>\n",
       "      <td>1977.0</td>\n",
       "      <td>10.0</td>\n",
       "      <td>21.0</td>\n",
       "      <td>1977-10-21</td>\n",
       "      <td>9.0</td>\n",
       "      <td>r</td>\n",
       "      <td>...</td>\n",
       "      <td>102.0</td>\n",
       "      <td>n</td>\n",
       "      <td>n</td>\n",
       "      <td>NaN</td>\n",
       "      <td>NaN</td>\n",
       "      <td>y</td>\n",
       "      <td>n</td>\n",
       "      <td>n</td>\n",
       "      <td>2020-10-25 13:25:37</td>\n",
       "      <td>2023-06-28 10:42:26</td>\n",
       "    </tr>\n",
       "    <tr>\n",
       "      <th>3</th>\n",
       "      <td>120722</td>\n",
       "      <td>m</td>\n",
       "      <td>g</td>\n",
       "      <td>g03</td>\n",
       "      <td>1971.0</td>\n",
       "      <td>3.0</td>\n",
       "      <td>0.0</td>\n",
       "      <td>0000-00-00</td>\n",
       "      <td>3.0</td>\n",
       "      <td>r</td>\n",
       "      <td>...</td>\n",
       "      <td>5.0</td>\n",
       "      <td>n</td>\n",
       "      <td>n</td>\n",
       "      <td>NaN</td>\n",
       "      <td>88.0</td>\n",
       "      <td>y</td>\n",
       "      <td>n</td>\n",
       "      <td>n</td>\n",
       "      <td>2017-03-12 10:34:49</td>\n",
       "      <td>2023-06-10 10:31:31</td>\n",
       "    </tr>\n",
       "    <tr>\n",
       "      <th>4</th>\n",
       "      <td>1845</td>\n",
       "      <td>m</td>\n",
       "      <td>b</td>\n",
       "      <td>b16</td>\n",
       "      <td>1965.0</td>\n",
       "      <td>10.0</td>\n",
       "      <td>0.0</td>\n",
       "      <td>0000-00-00</td>\n",
       "      <td>9.0</td>\n",
       "      <td>r</td>\n",
       "      <td>...</td>\n",
       "      <td>1.0</td>\n",
       "      <td>n</td>\n",
       "      <td>n</td>\n",
       "      <td>NaN</td>\n",
       "      <td>80.0</td>\n",
       "      <td>y</td>\n",
       "      <td>n</td>\n",
       "      <td>n</td>\n",
       "      <td>2015-09-09 23:16:54</td>\n",
       "      <td>2022-11-02 21:55:29</td>\n",
       "    </tr>\n",
       "  </tbody>\n",
       "</table>\n",
       "<p>5 rows × 87 columns</p>\n",
       "</div>"
      ],
      "text/plain": [
       "    mem_no mem_sex mem_loc mem_l_code  mem_birth_year  mem_birth_month  \\\n",
       "0        5       m       q        qnz          1985.0              6.0   \n",
       "1      211       m       e        e05          1966.0              2.0   \n",
       "2  1350974       m       l        l04          1977.0             10.0   \n",
       "3   120722       m       g        g03          1971.0              3.0   \n",
       "4     1845       m       b        b16          1965.0             10.0   \n",
       "\n",
       "   mem_birth_day mem_birth_date  mem_birth_ddi mate_slct  ...  \\\n",
       "0            3.0     1985-06-03            5.0         w  ...   \n",
       "1            0.0     0000-00-00           10.0         r  ...   \n",
       "2           21.0     1977-10-21            9.0         r  ...   \n",
       "3            0.0     0000-00-00            3.0         r  ...   \n",
       "4            0.0     0000-00-00            9.0         r  ...   \n",
       "\n",
       "  family_conts_upd_cnt secret_item_yn  secret_yn respect_person_cont  \\\n",
       "0                 14.0              n          n                 NaN   \n",
       "1                  9.0              n          n                 NaN   \n",
       "2                102.0              n          n                 NaN   \n",
       "3                  5.0              n          n                 NaN   \n",
       "4                  1.0              n          n                 NaN   \n",
       "\n",
       "  my_point_cont list_prt_yn my_hd_item_yn my_hd_yn             ins_date  \\\n",
       "0          90.0           y             n        n  2015-07-22 16:31:35   \n",
       "1         100.0           y             n        n  2015-08-09 13:48:39   \n",
       "2           NaN           y             n        n  2020-10-25 13:25:37   \n",
       "3          88.0           y             n        n  2017-03-12 10:34:49   \n",
       "4          80.0           y             n        n  2015-09-09 23:16:54   \n",
       "\n",
       "              upd_date  \n",
       "0  2023-06-27 14:18:35  \n",
       "1  2023-06-17 22:57:48  \n",
       "2  2023-06-28 10:42:26  \n",
       "3  2023-06-10 10:31:31  \n",
       "4  2022-11-02 21:55:29  \n",
       "\n",
       "[5 rows x 87 columns]"
      ]
     },
     "execution_count": 77,
     "metadata": {},
     "output_type": "execute_result"
    }
   ],
   "source": [
    "import pandas as pd\n",
    "user_info = pd.read_csv(\"/Users/jaeho/Work/yeoboya/recommender/data/nn_data/train/train_user_data.csv\")\n",
    "user_info.head()"
   ]
  },
  {
   "cell_type": "code",
   "execution_count": 80,
   "metadata": {},
   "outputs": [
    {
     "data": {
      "text/html": [
       "<div>\n",
       "<style scoped>\n",
       "    .dataframe tbody tr th:only-of-type {\n",
       "        vertical-align: middle;\n",
       "    }\n",
       "\n",
       "    .dataframe tbody tr th {\n",
       "        vertical-align: top;\n",
       "    }\n",
       "\n",
       "    .dataframe thead th {\n",
       "        text-align: right;\n",
       "    }\n",
       "</style>\n",
       "<table border=\"1\" class=\"dataframe\">\n",
       "  <thead>\n",
       "    <tr style=\"text-align: right;\">\n",
       "      <th></th>\n",
       "      <th>mem_no</th>\n",
       "      <th>mem_sex</th>\n",
       "      <th>mem_loc</th>\n",
       "      <th>mem_l_code</th>\n",
       "      <th>mem_birth_year</th>\n",
       "      <th>mem_birth_month</th>\n",
       "      <th>mem_birth_day</th>\n",
       "      <th>mem_birth_date</th>\n",
       "      <th>mem_birth_ddi</th>\n",
       "      <th>mate_slct</th>\n",
       "      <th>...</th>\n",
       "      <th>family_conts_upd_cnt</th>\n",
       "      <th>secret_item_yn</th>\n",
       "      <th>secret_yn</th>\n",
       "      <th>respect_person_cont</th>\n",
       "      <th>my_point_cont</th>\n",
       "      <th>list_prt_yn</th>\n",
       "      <th>my_hd_item_yn</th>\n",
       "      <th>my_hd_yn</th>\n",
       "      <th>ins_date</th>\n",
       "      <th>upd_date</th>\n",
       "    </tr>\n",
       "  </thead>\n",
       "  <tbody>\n",
       "    <tr>\n",
       "      <th>0</th>\n",
       "      <td>19083</td>\n",
       "      <td>m</td>\n",
       "      <td>q</td>\n",
       "      <td>qnz</td>\n",
       "      <td>1985.0</td>\n",
       "      <td>6.0</td>\n",
       "      <td>3.0</td>\n",
       "      <td>1985-06-03</td>\n",
       "      <td>5.0</td>\n",
       "      <td>w</td>\n",
       "      <td>...</td>\n",
       "      <td>14.0</td>\n",
       "      <td>n</td>\n",
       "      <td>n</td>\n",
       "      <td>NaN</td>\n",
       "      <td>90.0</td>\n",
       "      <td>y</td>\n",
       "      <td>n</td>\n",
       "      <td>n</td>\n",
       "      <td>2015-07-22 16:31:35</td>\n",
       "      <td>2023-06-27 14:18:35</td>\n",
       "    </tr>\n",
       "    <tr>\n",
       "      <th>1</th>\n",
       "      <td>12415</td>\n",
       "      <td>m</td>\n",
       "      <td>e</td>\n",
       "      <td>e05</td>\n",
       "      <td>1966.0</td>\n",
       "      <td>2.0</td>\n",
       "      <td>0.0</td>\n",
       "      <td>0000-00-00</td>\n",
       "      <td>10.0</td>\n",
       "      <td>r</td>\n",
       "      <td>...</td>\n",
       "      <td>9.0</td>\n",
       "      <td>n</td>\n",
       "      <td>n</td>\n",
       "      <td>NaN</td>\n",
       "      <td>100.0</td>\n",
       "      <td>y</td>\n",
       "      <td>n</td>\n",
       "      <td>n</td>\n",
       "      <td>2015-08-09 13:48:39</td>\n",
       "      <td>2023-06-17 22:57:48</td>\n",
       "    </tr>\n",
       "    <tr>\n",
       "      <th>2</th>\n",
       "      <td>11191</td>\n",
       "      <td>m</td>\n",
       "      <td>l</td>\n",
       "      <td>l04</td>\n",
       "      <td>1977.0</td>\n",
       "      <td>10.0</td>\n",
       "      <td>21.0</td>\n",
       "      <td>1977-10-21</td>\n",
       "      <td>9.0</td>\n",
       "      <td>r</td>\n",
       "      <td>...</td>\n",
       "      <td>102.0</td>\n",
       "      <td>n</td>\n",
       "      <td>n</td>\n",
       "      <td>NaN</td>\n",
       "      <td>NaN</td>\n",
       "      <td>y</td>\n",
       "      <td>n</td>\n",
       "      <td>n</td>\n",
       "      <td>2020-10-25 13:25:37</td>\n",
       "      <td>2023-06-28 10:42:26</td>\n",
       "    </tr>\n",
       "    <tr>\n",
       "      <th>3</th>\n",
       "      <td>8558</td>\n",
       "      <td>m</td>\n",
       "      <td>g</td>\n",
       "      <td>g03</td>\n",
       "      <td>1971.0</td>\n",
       "      <td>3.0</td>\n",
       "      <td>0.0</td>\n",
       "      <td>0000-00-00</td>\n",
       "      <td>3.0</td>\n",
       "      <td>r</td>\n",
       "      <td>...</td>\n",
       "      <td>5.0</td>\n",
       "      <td>n</td>\n",
       "      <td>n</td>\n",
       "      <td>NaN</td>\n",
       "      <td>88.0</td>\n",
       "      <td>y</td>\n",
       "      <td>n</td>\n",
       "      <td>n</td>\n",
       "      <td>2017-03-12 10:34:49</td>\n",
       "      <td>2023-06-10 10:31:31</td>\n",
       "    </tr>\n",
       "    <tr>\n",
       "      <th>4</th>\n",
       "      <td>20641</td>\n",
       "      <td>m</td>\n",
       "      <td>b</td>\n",
       "      <td>b16</td>\n",
       "      <td>1965.0</td>\n",
       "      <td>10.0</td>\n",
       "      <td>0.0</td>\n",
       "      <td>0000-00-00</td>\n",
       "      <td>9.0</td>\n",
       "      <td>r</td>\n",
       "      <td>...</td>\n",
       "      <td>1.0</td>\n",
       "      <td>n</td>\n",
       "      <td>n</td>\n",
       "      <td>NaN</td>\n",
       "      <td>80.0</td>\n",
       "      <td>y</td>\n",
       "      <td>n</td>\n",
       "      <td>n</td>\n",
       "      <td>2015-09-09 23:16:54</td>\n",
       "      <td>2022-11-02 21:55:29</td>\n",
       "    </tr>\n",
       "  </tbody>\n",
       "</table>\n",
       "<p>5 rows × 87 columns</p>\n",
       "</div>"
      ],
      "text/plain": [
       "   mem_no mem_sex mem_loc mem_l_code  mem_birth_year  mem_birth_month  \\\n",
       "0   19083       m       q        qnz          1985.0              6.0   \n",
       "1   12415       m       e        e05          1966.0              2.0   \n",
       "2   11191       m       l        l04          1977.0             10.0   \n",
       "3    8558       m       g        g03          1971.0              3.0   \n",
       "4   20641       m       b        b16          1965.0             10.0   \n",
       "\n",
       "   mem_birth_day mem_birth_date  mem_birth_ddi mate_slct  ...  \\\n",
       "0            3.0     1985-06-03            5.0         w  ...   \n",
       "1            0.0     0000-00-00           10.0         r  ...   \n",
       "2           21.0     1977-10-21            9.0         r  ...   \n",
       "3            0.0     0000-00-00            3.0         r  ...   \n",
       "4            0.0     0000-00-00            9.0         r  ...   \n",
       "\n",
       "  family_conts_upd_cnt secret_item_yn  secret_yn respect_person_cont  \\\n",
       "0                 14.0              n          n                 NaN   \n",
       "1                  9.0              n          n                 NaN   \n",
       "2                102.0              n          n                 NaN   \n",
       "3                  5.0              n          n                 NaN   \n",
       "4                  1.0              n          n                 NaN   \n",
       "\n",
       "  my_point_cont list_prt_yn my_hd_item_yn my_hd_yn             ins_date  \\\n",
       "0          90.0           y             n        n  2015-07-22 16:31:35   \n",
       "1         100.0           y             n        n  2015-08-09 13:48:39   \n",
       "2           NaN           y             n        n  2020-10-25 13:25:37   \n",
       "3          88.0           y             n        n  2017-03-12 10:34:49   \n",
       "4          80.0           y             n        n  2015-09-09 23:16:54   \n",
       "\n",
       "              upd_date  \n",
       "0  2023-06-27 14:18:35  \n",
       "1  2023-06-17 22:57:48  \n",
       "2  2023-06-28 10:42:26  \n",
       "3  2023-06-10 10:31:31  \n",
       "4  2022-11-02 21:55:29  \n",
       "\n",
       "[5 rows x 87 columns]"
      ]
     },
     "execution_count": 80,
     "metadata": {},
     "output_type": "execute_result"
    }
   ],
   "source": [
    "for i, row in user_info.iterrows():\n",
    "    user_info.loc[i, \"mem_no\"] = user_id_dict[row[\"mem_no\"]]\n",
    "user_info.head()"
   ]
  },
  {
   "cell_type": "code",
   "execution_count": 81,
   "metadata": {},
   "outputs": [],
   "source": [
    "######################### WRITING DATA #########################\n",
    "user_info.to_csv(\"new_user_data.csv\", index=False)"
   ]
  },
  {
   "cell_type": "code",
   "execution_count": 82,
   "metadata": {},
   "outputs": [
    {
     "data": {
      "text/plain": [
       "(20696, 87)"
      ]
     },
     "execution_count": 82,
     "metadata": {},
     "output_type": "execute_result"
    }
   ],
   "source": [
    "user_info.shape"
   ]
  }
 ],
 "metadata": {
  "interpreter": {
   "hash": "393e5b38068eb876eb80188b682271d678a01212be2bf098948f8f00e474ec0f"
  },
  "kernelspec": {
   "display_name": "Python 3.10.9 ('tf')",
   "language": "python",
   "name": "python3"
  },
  "language_info": {
   "codemirror_mode": {
    "name": "ipython",
    "version": 3
   },
   "file_extension": ".py",
   "mimetype": "text/x-python",
   "name": "python",
   "nbconvert_exporter": "python",
   "pygments_lexer": "ipython3",
   "version": "3.10.9"
  },
  "orig_nbformat": 4
 },
 "nbformat": 4,
 "nbformat_minor": 2
}
