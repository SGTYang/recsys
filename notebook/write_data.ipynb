{
 "cells": [
  {
   "cell_type": "code",
   "execution_count": null,
   "metadata": {},
   "outputs": [],
   "source": [
    "from cassandra.cluster import Cluster\n",
    "\n",
    "cluster = Cluster([\"61.80.148.154\"], port=30003)\n",
    "session = cluster.connect()"
   ]
  },
  {
   "cell_type": "code",
   "execution_count": null,
   "metadata": {},
   "outputs": [],
   "source": [
    "# Execution Profiles\n",
    "\n",
    "from cassandra.cluster import Cluster, ExecutionProfile, EXEC_PROFILE_DEFAULT\n",
    "from cassandra.policies import WhiteListRoundRobinPolicy, DowngradingConsistencyRetryPolicy\n",
    "from cassandra.query import tuple_factory\n",
    "from cassandra.query import ConsistencyLevel\n",
    "\n",
    "profile = ExecutionProfile(\n",
    "    load_balancing_policy=WhiteListRoundRobinPolicy([\"61.80.148.154\"]),\n",
    "    retry_policy=DowngradingConsistencyRetryPolicy(),\n",
    "    consistency_level=ConsistencyLevel.LOCAL_QUORUM,\n",
    "    serial_consistency_level=ConsistencyLevel.LOCAL_SERIAL,\n",
    "    request_timeout=15,\n",
    "    row_factory=tuple_factory\n",
    ")\n",
    "\n",
    "cluster = Cluster([\"61.80.148.154\"], port=30003, execution_profiles={EXEC_PROFILE_DEFAULT : profile})\n",
    "session = cluster.connect()"
   ]
  },
  {
   "cell_type": "code",
   "execution_count": null,
   "metadata": {},
   "outputs": [],
   "source": [
    "# Prepared Statements\n",
    "# Queries that are parsed by Cassandra and then saved for later use. When the driver uses a prepared statement,\n",
    "# it only needs to send the values of parameters to bind. This lowers network traffic and CPU utilization\n",
    "# within Cassandra because Cassandra does not have to re-parse the query each time.\n",
    "\n",
    "user_lookup_stmt = session.prepare(\"SELECT * FROM users WHERE user_id=?\")\n",
    "\n",
    "users = []\n",
    "for user_id in user_ids_to_query:\n",
    "    user = session.execute(user_lookup_stmt, [user_id])\n",
    "    users.append(user)"
   ]
  },
  {
   "cell_type": "code",
   "execution_count": null,
   "metadata": {},
   "outputs": [],
   "source": [
    "import pickle\n",
    "\n",
    "with open(\"user_similarity.pkl\", \"rb\") as f:\n",
    "    data = pickle.load(f)"
   ]
  },
  {
   "cell_type": "code",
   "execution_count": null,
   "metadata": {},
   "outputs": [],
   "source": [
    "# Execution Profiles\n",
    "\n",
    "from cassandra.cluster import Cluster, ExecutionProfile, EXEC_PROFILE_DEFAULT\n",
    "from cassandra.policies import WhiteListRoundRobinPolicy, DowngradingConsistencyRetryPolicy\n",
    "from cassandra.query import tuple_factory\n",
    "from cassandra.query import ConsistencyLevel\n",
    "\n",
    "profile = ExecutionProfile(\n",
    "    load_balancing_policy=WhiteListRoundRobinPolicy([\"61.80.148.154\"]),\n",
    "    retry_policy=DowngradingConsistencyRetryPolicy(),\n",
    "    consistency_level=ConsistencyLevel.LOCAL_QUORUM,\n",
    "    serial_consistency_level=ConsistencyLevel.LOCAL_SERIAL,\n",
    "    request_timeout=15,\n",
    "    row_factory=tuple_factory\n",
    ")\n",
    "\n",
    "cluster = Cluster([\"61.80.148.154\"], port=30003, execution_profiles={EXEC_PROFILE_DEFAULT : profile})\n",
    "session = cluster.connect()"
   ]
  },
  {
   "cell_type": "code",
   "execution_count": null,
   "metadata": {},
   "outputs": [],
   "source": [
    "# INSERT image similarity data into cassandra\n",
    "for user in data.keys():\n",
    "    user_similarity_stmt = session.prepare(\n",
    "    f\"INSERT INTO user_profile_test.similarity_test (user_id, similarity, target_id) VALUES ({int(user)}, ?, ?)\"\n",
    "    )\n",
    "    for user_similarity, target_id in data[user]:\n",
    "        session.execute(user_similarity_stmt, [user_similarity, int(target_id)])"
   ]
  },
  {
   "cell_type": "code",
   "execution_count": null,
   "metadata": {},
   "outputs": [],
   "source": [
    "# Create user_rating data \n",
    "import random\n",
    "from collections import defaultdict\n",
    "\n",
    "user_rating = defaultdict(list)\n",
    "\n",
    "for i in range(600):\n",
    "    user_id = str(random.randrange(0, 1001))\n",
    "    while user_id in user_rating:\n",
    "        user_id = str(random.randrange(0, 1001))\n",
    "\n",
    "    for i in range(random.randrange(1, 20)):\n",
    "        target_id = str(random.randrange(0, 1001))\n",
    "        while target_id in user_rating[user_id]:\n",
    "            target_id = str(random.randrange(0, 1001))\n",
    "        \n",
    "        random_rating = random.randrange(1, 11)\n",
    "        user_rating[user_id].append([target_id, random_rating])\n",
    "\n",
    "import pickle\n",
    "with open(\"user_rating.pkl\", \"wb\") as f:\n",
    "    pickle.dump(user_rating, f)"
   ]
  },
  {
   "cell_type": "code",
   "execution_count": null,
   "metadata": {},
   "outputs": [],
   "source": [
    "# INSERT user_rating datat into cassandra\n",
    "for user_id in user_rating.keys():\n",
    "    user_rating_stmt = session.prepare(\n",
    "        f\"INSERT INTO user_profile_test.rating_test (user_id, rating, target_id) VALUES ({int(user_id)}, ?, ?)\"\n",
    "    )\n",
    "    for target_id, rating in user_rating[user_id]:\n",
    "        session.execute(user_rating_stmt, [-rating, int(target_id)])"
   ]
  },
  {
   "cell_type": "code",
   "execution_count": null,
   "metadata": {},
   "outputs": [],
   "source": [
    "# Load user_rating data from cassandra\n",
    "rating_query = session.prepare(\"SELECT * FROM user_profile_test.rating_test WHERE user_id=?\")\n",
    "\n",
    "user_id = 16\n",
    "user_favored_list = session.execute(rating_query, [int(user_id)])\n",
    "for user_id, rating, target_id in user_favored_list:\n",
    "    print(user_id, rating, target_id)"
   ]
  },
  {
   "cell_type": "code",
   "execution_count": null,
   "metadata": {},
   "outputs": [],
   "source": [
    "rating_query = session.prepare(\"SELECT * FROM user_profile_test.rating_test WHERE user_id=?\")\n",
    "\n",
    "user_id = 16\n",
    "user_favored_list = [target_id for _, _, target_id in session.execute(rating_query, [int(user_id)])]\n",
    "\n",
    "similarity_query = \"SELECT * FROM user_profile_test.similarity_test WHERE user_id=%s\"\n",
    "similarity_query_futures = [session.execute_async(similarity_query, [target_id]) for target_id in user_favored_list[:min(len(user_favored_list), 5)]]\n",
    "\n",
    "# wait for them to complete and use the results\n",
    "for future in similarity_query_futures:\n",
    "    rows = future.result()\n",
    "    for row in rows:\n",
    "        print(row)\n",
    "    print(\"@@@@@@@@@@\")"
   ]
  },
  {
   "cell_type": "code",
   "execution_count": null,
   "metadata": {},
   "outputs": [],
   "source": [
    "# Non-prepared statements\n",
    "session.execute(\n",
    "    \"\"\"\n",
    "    INSERT INTO users (name, credits, user_id)\n",
    "    VALUES (%s, %s, %s)\n",
    "    \"\"\",\n",
    "    (\"John O'Reilly\", 42, uuid.uuid1()),\n",
    ")\n",
    "\n",
    "session.execute(\n",
    "    \"\"\"\n",
    "    INSERT INTO users (name, credits, user_id, username)\n",
    "    VALUES (%(name)s, %(credits)s, %(user_id)s, %(name)s)\n",
    "    \"\"\",\n",
    "    {'name': \"John O'Reilly\", 'credits': 42, 'user_id': uuid.uuid1()}\n",
    ")"
   ]
  },
  {
   "cell_type": "code",
   "execution_count": null,
   "metadata": {},
   "outputs": [],
   "source": [
    "# Execute_async()\n",
    "# Instead of waiting for the query to complete and returning rows directly, this method almost immediately\n",
    "# returns a ResponseFuture object. There are two ways of getting the final result from this object.\n",
    "\n",
    "# The first, by calling result()\n",
    "from cassandra import ReadTimeout\n",
    "\n",
    "query = \"SELECT * FROM users WHERE user_id=%s\"\n",
    "future = session.execute_async(query, [user_id])\n",
    "\n",
    "# ... do some other work\n",
    "try:\n",
    "    rows = future.result()\n",
    "    user = rows[0]\n",
    "    print(user.name, user.age)\n",
    "except ReadTimeout:\n",
    "    log.exception(\"Query timed out\")"
   ]
  },
  {
   "cell_type": "code",
   "execution_count": null,
   "metadata": {},
   "outputs": [],
   "source": [
    "# build a list of futures\n",
    "futures = []\n",
    "query = \"SELECT * FROM users WHERE user_id=%s\"\n",
    "for user_id in ids_to_fetch:\n",
    "    futures.append(session.execute_async(query, [user_id]))\n",
    "\n",
    "# wait for them to complete and use the results\n",
    "for future in futures:\n",
    "    rows = future.result()\n",
    "    print(rows[0].name)"
   ]
  },
  {
   "cell_type": "code",
   "execution_count": null,
   "metadata": {},
   "outputs": [],
   "source": [
    "# Instead of calling result(), you can attach callback and errback functions through the\n",
    "# add_callback(), add_errback(), add_callbacks() methods.\n",
    "def handle_success(rows):\n",
    "    user = rows[0]\n",
    "    try:\n",
    "        process_user(user.name, user.age, user.id)\n",
    "    except Exception:\n",
    "        log.error(\"Failed to process user %s\", user.id)\n",
    "        # don't re-raise errors in the callback\n",
    "\n",
    "def handle_error(exception):\n",
    "    log.error(\"Failed to fetch user info: %s\", exception)\n",
    "\n",
    "future = session.execute_async(query)\n",
    "future.add_callbacks(handle_success, handle_error)"
   ]
  },
  {
   "cell_type": "code",
   "execution_count": null,
   "metadata": {},
   "outputs": [],
   "source": [
    "# Setting a Consistency Level\n",
    "# The consistency level used for a query determines how many of the replicas of the data you are\n",
    "# interacting with need to respond for the query to be considered a success.\n",
    "# You can specify a different default by setting the ExecutionProfile.consistency_level \n",
    "# for the execution profile with key EXEC_PROFILE_DEFAULT. \n",
    "# To specify a different consistency level per request, wrap queries in a SimpleStatement\n",
    "\n",
    "from cassandra import ConsistencyLevel\n",
    "from cassandra.query import SimpleStatement\n",
    "\n",
    "query = SimpleStatement(\n",
    "    \"INSERT INTO users (name, age) VALUES (%s, %s)\",\n",
    "    consistency_level = ConsistencyLevel.QUORUM,\n",
    ")\n",
    "session.execute(query, (\"John\", 42))"
   ]
  },
  {
   "cell_type": "code",
   "execution_count": null,
   "metadata": {},
   "outputs": [],
   "source": [
    "# Execution Profiles\n",
    "\n",
    "from cassandra.cluster import Cluster, ExecutionProfile, EXEC_PROFILE_DEFAULT\n",
    "from cassandra.policies import WhiteListRoundRobinPolicy, DowngradingConsistencyRetryPolicy\n",
    "from cassandra.query import tuple_factory\n",
    "from cassandra.query import ConsistencyLevel\n",
    "\n",
    "profile = ExecutionProfile(\n",
    "    load_balancing_policy=WhiteListRoundRobinPolicy([\"61.80.148.154\"]),\n",
    "    retry_policy=DowngradingConsistencyRetryPolicy(),\n",
    "    consistency_level=ConsistencyLevel.LOCAL_QUORUM,\n",
    "    serial_consistency_level=ConsistencyLevel.LOCAL_SERIAL,\n",
    "    request_timeout=15,\n",
    "    row_factory=tuple_factory\n",
    ")\n",
    "\n",
    "cluster = Cluster(['cassandra.us-east-2.amazonaws.com'], port=30003, execution_profiles={EXEC_PROFILE_DEFAULT : profile})\n",
    "session = cluster.connect()"
   ]
  },
  {
   "cell_type": "code",
   "execution_count": 26,
   "metadata": {},
   "outputs": [
    {
     "name": "stdout",
     "output_type": "stream",
     "text": [
      "Requirement already satisfied: s3fs in /Users/jaeho/miniforge3/envs/tf/lib/python3.10/site-packages (2023.10.0)\n",
      "Requirement already satisfied: fsspec==2023.10.0 in /Users/jaeho/miniforge3/envs/tf/lib/python3.10/site-packages (from s3fs) (2023.10.0)\n",
      "Requirement already satisfied: aiohttp!=4.0.0a0,!=4.0.0a1 in /Users/jaeho/miniforge3/envs/tf/lib/python3.10/site-packages (from s3fs) (3.9.0)\n",
      "Requirement already satisfied: aiobotocore~=2.7.0 in /Users/jaeho/miniforge3/envs/tf/lib/python3.10/site-packages (from s3fs) (2.7.0)\n",
      "Requirement already satisfied: wrapt<2.0.0,>=1.10.10 in /Users/jaeho/miniforge3/envs/tf/lib/python3.10/site-packages (from aiobotocore~=2.7.0->s3fs) (1.15.0)\n",
      "Requirement already satisfied: botocore<1.31.65,>=1.31.16 in /Users/jaeho/miniforge3/envs/tf/lib/python3.10/site-packages (from aiobotocore~=2.7.0->s3fs) (1.31.64)\n",
      "Requirement already satisfied: aioitertools<1.0.0,>=0.5.1 in /Users/jaeho/miniforge3/envs/tf/lib/python3.10/site-packages (from aiobotocore~=2.7.0->s3fs) (0.11.0)\n",
      "Requirement already satisfied: aiosignal>=1.1.2 in /Users/jaeho/miniforge3/envs/tf/lib/python3.10/site-packages (from aiohttp!=4.0.0a0,!=4.0.0a1->s3fs) (1.3.1)\n",
      "Requirement already satisfied: async-timeout<5.0,>=4.0 in /Users/jaeho/miniforge3/envs/tf/lib/python3.10/site-packages (from aiohttp!=4.0.0a0,!=4.0.0a1->s3fs) (4.0.3)\n",
      "Requirement already satisfied: attrs>=17.3.0 in /Users/jaeho/miniforge3/envs/tf/lib/python3.10/site-packages (from aiohttp!=4.0.0a0,!=4.0.0a1->s3fs) (22.2.0)\n",
      "Requirement already satisfied: yarl<2.0,>=1.0 in /Users/jaeho/miniforge3/envs/tf/lib/python3.10/site-packages (from aiohttp!=4.0.0a0,!=4.0.0a1->s3fs) (1.9.3)\n",
      "Requirement already satisfied: multidict<7.0,>=4.5 in /Users/jaeho/miniforge3/envs/tf/lib/python3.10/site-packages (from aiohttp!=4.0.0a0,!=4.0.0a1->s3fs) (6.0.4)\n",
      "Requirement already satisfied: frozenlist>=1.1.1 in /Users/jaeho/miniforge3/envs/tf/lib/python3.10/site-packages (from aiohttp!=4.0.0a0,!=4.0.0a1->s3fs) (1.4.0)\n",
      "Requirement already satisfied: jmespath<2.0.0,>=0.7.1 in /Users/jaeho/miniforge3/envs/tf/lib/python3.10/site-packages (from botocore<1.31.65,>=1.31.16->aiobotocore~=2.7.0->s3fs) (1.0.1)\n",
      "Requirement already satisfied: python-dateutil<3.0.0,>=2.1 in /Users/jaeho/miniforge3/envs/tf/lib/python3.10/site-packages (from botocore<1.31.65,>=1.31.16->aiobotocore~=2.7.0->s3fs) (2.8.2)\n",
      "Requirement already satisfied: urllib3<2.1,>=1.25.4 in /Users/jaeho/miniforge3/envs/tf/lib/python3.10/site-packages (from botocore<1.31.65,>=1.31.16->aiobotocore~=2.7.0->s3fs) (1.26.15)\n",
      "Requirement already satisfied: idna>=2.0 in /Users/jaeho/miniforge3/envs/tf/lib/python3.10/site-packages (from yarl<2.0,>=1.0->aiohttp!=4.0.0a0,!=4.0.0a1->s3fs) (3.4)\n",
      "Requirement already satisfied: six>=1.5 in /Users/jaeho/miniforge3/envs/tf/lib/python3.10/site-packages (from python-dateutil<3.0.0,>=2.1->botocore<1.31.65,>=1.31.16->aiobotocore~=2.7.0->s3fs) (1.16.0)\n"
     ]
    }
   ],
   "source": [
    "! pip install s3fs"
   ]
  },
  {
   "cell_type": "code",
   "execution_count": 25,
   "metadata": {},
   "outputs": [
    {
     "name": "stdout",
     "output_type": "stream",
     "text": [
      "Collecting boto3==1.28.0\n",
      "  Downloading boto3-1.28.0-py3-none-any.whl (135 kB)\n",
      "\u001b[2K     \u001b[90m━━━━━━━━━━━━━━━━━━━━━━━━━━━━━━━━━━━━━━━\u001b[0m \u001b[32m135.7/135.7 kB\u001b[0m \u001b[31m3.9 MB/s\u001b[0m eta \u001b[36m0:00:00\u001b[0m\n",
      "\u001b[?25hRequirement already satisfied: botocore<1.32.0,>=1.31.0 in /Users/jaeho/miniforge3/envs/tf/lib/python3.10/site-packages (from boto3==1.28.0) (1.31.64)\n",
      "Requirement already satisfied: jmespath<2.0.0,>=0.7.1 in /Users/jaeho/miniforge3/envs/tf/lib/python3.10/site-packages (from boto3==1.28.0) (1.0.1)\n",
      "Requirement already satisfied: s3transfer<0.7.0,>=0.6.0 in /Users/jaeho/miniforge3/envs/tf/lib/python3.10/site-packages (from boto3==1.28.0) (0.6.2)\n",
      "Requirement already satisfied: urllib3<2.1,>=1.25.4 in /Users/jaeho/miniforge3/envs/tf/lib/python3.10/site-packages (from botocore<1.32.0,>=1.31.0->boto3==1.28.0) (1.26.15)\n",
      "Requirement already satisfied: python-dateutil<3.0.0,>=2.1 in /Users/jaeho/miniforge3/envs/tf/lib/python3.10/site-packages (from botocore<1.32.0,>=1.31.0->boto3==1.28.0) (2.8.2)\n",
      "Requirement already satisfied: six>=1.5 in /Users/jaeho/miniforge3/envs/tf/lib/python3.10/site-packages (from python-dateutil<3.0.0,>=2.1->botocore<1.32.0,>=1.31.0->boto3==1.28.0) (1.16.0)\n",
      "Installing collected packages: boto3\n",
      "  Attempting uninstall: boto3\n",
      "    Found existing installation: boto3 1.27.0\n",
      "    Uninstalling boto3-1.27.0:\n",
      "      Successfully uninstalled boto3-1.27.0\n",
      "Successfully installed boto3-1.28.0\n"
     ]
    }
   ],
   "source": [
    "! pip install boto3==1.28.0"
   ]
  },
  {
   "cell_type": "code",
   "execution_count": 15,
   "metadata": {},
   "outputs": [
    {
     "name": "stderr",
     "output_type": "stream",
     "text": [
      "/var/folders/23/z66xfw69593_wvynw4k7bb080000gn/T/ipykernel_49824/2401933602.py:6: DeprecationWarning: ssl.PROTOCOL_TLSv1_2 is deprecated\n",
      "  ssl_context = SSLContext(PROTOCOL_TLSv1_2)\n"
     ]
    },
    {
     "name": "stdout",
     "output_type": "stream",
     "text": [
      "None\n",
      "{1: '사진 경로'}\n",
      "{1: '사진 경로'}\n",
      "{1: 'C:\\\\Users\\\\gjaischool\\\\Music\\\\ws\\\\09.nov\\\\src\\\\main\\\\webapp\\\\\\\\1.jpg'}\n",
      "None\n",
      "{1: 's3://simkoong-s3/simkoong.jpg', 2: 's3://simkoong-s3/simkoong.jpg', 3: 's3://simkoong-s3/simkoong.jpg', 4: 's3://simkoong-s3/simkoong.jpg'}\n",
      "None\n",
      "None\n",
      "{1: 's3://simkoong-s3/iu.png', 2: 's3://simkoong-s3/iu3.jpg', 3: 's3://simkoong-s3/iu2.jpg', 4: 'C:/Users/gjaischool/Music/ws/새 폴더/FinalProject_web/src/main/webapp/302.jpg'}\n",
      "None\n",
      "{1: '사진 경로'}\n",
      "None\n",
      "None\n",
      "None\n",
      "None\n",
      "None\n",
      "None\n",
      "None\n",
      "{1: 'default.png', 2: 'default.png', 3: 'default.png', 4: 'default.png'}\n",
      "{1: '사진 경로'}\n",
      "{2: 'C:/Users/gjaischool/Music/ws/새 폴더/FinalProject_web/src/main/webapp/6.jpg'}\n",
      "None\n",
      "None\n",
      "{1: '사진 경로'}\n",
      "{1: '사진 경로'}\n",
      "None\n",
      "None\n",
      "{1: 'C:/Users/gjaischool/Music/ws/09.nov/src/main/webapp/2.jpg'}\n",
      "None\n",
      "None\n",
      "{1: 'default.png', 2: 'default.png', 3: 'default.png', 4: 'default.png'}\n",
      "{1: '사진 경로'}\n",
      "{1: 'C:/Users/gjaischool/Music/ws/09.nov/src/main/webapp//2.jpg'}\n",
      "{1: '사진 경로'}\n",
      "None\n",
      "None\n",
      "{1: 'default.png', 2: 'default.png', 3: 'default.png', 4: 'default.png'}\n",
      "None\n",
      "{1: '사진 경로'}\n",
      "None\n",
      "None\n",
      "{1: 's3://simkoong-s3/sohee.png', 2: 's3://simkoong-s3/suzy.jpg', 3: 's3://simkoong-s3/iu.png', 4: 'default.png'}\n",
      "None\n",
      "None\n",
      "{1: 'C:/Users/gjaischool/Music/ws/09.nov/src/main/webapp/3.jpg'}\n",
      "{1: 'C:\\\\Users\\\\gjaischool\\\\Music\\\\ws\\\\09.nov\\\\src\\\\main\\\\webapp\\\\\\\\0.jpg'}\n",
      "{1: '사진 경로'}\n",
      "None\n",
      "{1: '사진 경로'}\n",
      "{1: 'default.png', 2: 'default.png', 3: 'default.png', 4: 'default.png'}\n",
      "None\n",
      "{1: 'C:/WS/project3/FinalProject_web/src/main/webapp/스크린샷 2023-11-14 112354.png'}\n",
      "None\n",
      "None\n",
      "None\n"
     ]
    }
   ],
   "source": [
    "from cassandra.cluster import Cluster\n",
    "from ssl import SSLContext, PROTOCOL_TLSv1_2 , CERT_REQUIRED\n",
    "from cassandra.auth import PlainTextAuthProvider\n",
    "import boto3\n",
    "\n",
    "ssl_context = SSLContext(PROTOCOL_TLSv1_2)\n",
    "ssl_context.load_verify_locations('/Users/jaeho/.ssh/sf-class2-root.crt')\n",
    "ssl_context.verify_mode = CERT_REQUIRED\n",
    "\n",
    "auth_provider = PlainTextAuthProvider(\n",
    "    username=\"keyspace_user+1-at-895636194780\", \n",
    "    password=\"j/vlAkLrtf3zlGqu5DFWgmr0/2IvNJurhliLJ1w2bDQ=\",\n",
    "    )\n",
    "\n",
    "# Use this instead of the above line if you want to use the Default Credentials and not bother with a session.\n",
    "# auth_provider = SigV4AuthProvider()\n",
    "\n",
    "cluster = Cluster(\n",
    "    ['cassandra.ap-northeast-2.amazonaws.com'], \n",
    "    ssl_context=ssl_context,\n",
    "    auth_provider=auth_provider,\n",
    "    port=9142,\n",
    "    )\n",
    "session = cluster.connect()\n",
    "rows = session.execute('select * from member.info')\n",
    "for row in rows:\n",
    "    print(row.photo)"
   ]
  }
 ],
 "metadata": {
  "interpreter": {
   "hash": "393e5b38068eb876eb80188b682271d678a01212be2bf098948f8f00e474ec0f"
  },
  "kernelspec": {
   "display_name": "Python 3.10.9 ('tf')",
   "language": "python",
   "name": "python3"
  },
  "language_info": {
   "codemirror_mode": {
    "name": "ipython",
    "version": 3
   },
   "file_extension": ".py",
   "mimetype": "text/x-python",
   "name": "python",
   "nbconvert_exporter": "python",
   "pygments_lexer": "ipython3",
   "version": "3.10.9"
  },
  "orig_nbformat": 4
 },
 "nbformat": 4,
 "nbformat_minor": 2
}
